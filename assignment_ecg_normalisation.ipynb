{
  "cells": [
    {
      "cell_type": "markdown",
      "metadata": {
        "id": "view-in-github",
        "colab_type": "text"
      },
      "source": [
        "<a href=\"https://colab.research.google.com/github/bramvandeurzen934/Group16_ECG/blob/normalisation-and-feature-selection/assignment_ecg_normalisation.ipynb\" target=\"_parent\"><img src=\"https://colab.research.google.com/assets/colab-badge.svg\" alt=\"Open In Colab\"/></a>"
      ]
    },
    {
      "cell_type": "markdown",
      "metadata": {
        "id": "7SXpaKwwGe5x"
      },
      "source": [
        "# TM10007 Assignment template -- ECG data"
      ]
    },
    {
      "cell_type": "markdown",
      "source": [
        "# Introduction\n",
        "\n",
        "The objective of this notebook is to predict if a ECG recording is normal or abnormal. The features are acquired from Fourier analysis.\n",
        "\n",
        "This notebook covers the following components:\n",
        "*   **Data description and visualization**: data exploration to get acquainted with the data structure.\n",
        "*   **Preprocessing**: this section consists of scaling, outliers, etc.\n",
        "*   **Feature selection and extraction**: methods to select features such as Greed feature selection and extract features such as PCA will be applied.\n",
        "*   **Classifier**: the apprioriate classifier will be selected based on theoretical knowledge or experiments.\n",
        "*   **Experimental and evaluation setup**: evaluation of the ECG dataset on the model.\n",
        "\n",
        "\n",
        "\n",
        "\n",
        "\n"
      ],
      "metadata": {
        "id": "-6AxJCs8g9pY"
      }
    },
    {
      "cell_type": "markdown",
      "source": [
        "# Data description and visualization"
      ],
      "metadata": {
        "id": "rCXePvfuj6h7"
      }
    },
    {
      "cell_type": "markdown",
      "metadata": {
        "id": "UN7eo_Ba6Dr_"
      },
      "source": [
        "## Data loading and cleaning\n",
        "\n",
        "Below are functions to load the dataset of your choice. After that, it is all up to you to create and evaluate a classification method. Beware, there may be missing values in these datasets. Good luck!"
      ]
    },
    {
      "cell_type": "code",
      "execution_count": 46,
      "metadata": {
        "colab": {
          "base_uri": "https://localhost:8080/"
        },
        "id": "CiDn2Sk-VWqE",
        "outputId": "a0bbfee8-0979-4f59-c8ef-4fe9209c979f"
      },
      "outputs": [
        {
          "output_type": "stream",
          "name": "stdout",
          "text": [
            "fatal: destination path 'Group16_ECG' already exists and is not an empty directory.\n"
          ]
        }
      ],
      "source": [
        "# Run this to use from colab environment\n",
        "!git clone https://github.com/bramvandeurzen934/Group16_ECG.git\n",
        "\n",
        "import zipfile\n",
        "import os\n",
        "import pandas as pd\n",
        "\n",
        "with zipfile.ZipFile('/content/Group16_ECG/ecg_data.zip', 'r') as zip_ref:\n",
        "    zip_ref.extractall('/content/Group16_ECG')\n",
        "\n",
        "data = pd.read_csv('/content/Group16_ECG/ecg_data.csv', index_col=0)"
      ]
    },
    {
      "cell_type": "code",
      "source": [
        "# data exploration\n",
        "print(f'The number of samples: {len(data.index)}')\n",
        "print(f'The number of columns: {len(data.columns)}')\n"
      ],
      "metadata": {
        "id": "rEX8YPMVkOQ5",
        "outputId": "b39c900f-4ed5-4d9d-9386-6083b787c533",
        "colab": {
          "base_uri": "https://localhost:8080/"
        }
      },
      "execution_count": 47,
      "outputs": [
        {
          "output_type": "stream",
          "name": "stdout",
          "text": [
            "The number of samples: 827\n",
            "The number of columns: 9001\n"
          ]
        }
      ]
    },
    {
      "cell_type": "code",
      "source": [
        "print('Number of unique values: \\n',data.nunique().value_counts())\n",
        "print('\\n')\n",
        "print('Number of datatypes present: \\n',data.dtypes.value_counts())\n"
      ],
      "metadata": {
        "id": "aOWmEac1k3jq",
        "outputId": "9b656808-d2ce-43dd-abcb-eb02c481b60d",
        "colab": {
          "base_uri": "https://localhost:8080/"
        }
      },
      "execution_count": 74,
      "outputs": [
        {
          "output_type": "stream",
          "name": "stdout",
          "text": [
            "Number of unique values: \n",
            " 827    6000\n",
            "826    1500\n",
            "824    1500\n",
            "2         1\n",
            "dtype: int64\n",
            "\n",
            "\n",
            "Number of datatypes present: \n",
            " float64    9000\n",
            "int64         1\n",
            "dtype: int64\n"
          ]
        }
      ]
    },
    {
      "cell_type": "markdown",
      "source": [
        "There is a difference in unique numbers for different features. In the folllowing code we will look for explanations for these discongruity.\n",
        "\n",
        "The dataset contains 9000 columns with floating variables: the outcomes of the fourrier analysis and one column with integers: the label (0 or 1). No categorical variables are present in the data."
      ],
      "metadata": {
        "id": "1W1cSjr4IR_M"
      }
    },
    {
      "cell_type": "code",
      "source": [
        "data[data['10_90'].duplicated()]['10_0']"
      ],
      "metadata": {
        "id": "zl6PxzTeGzmm",
        "outputId": "451f5e01-386e-45e7-a5de-e0262e5c58f2",
        "colab": {
          "base_uri": "https://localhost:8080/"
        }
      },
      "execution_count": 103,
      "outputs": [
        {
          "output_type": "execute_result",
          "data": {
            "text/plain": [
              "542    0.0\n",
              "601    0.0\n",
              "790    0.0\n",
              "Name: 10_0, dtype: float64"
            ]
          },
          "metadata": {},
          "execution_count": 103
        }
      ]
    },
    {
      "cell_type": "code",
      "source": [
        "print('zeros in 826 \\n',data[data['7_0'].duplicated()]['7_0'])\n",
        "print('zeros in 826 \\n',data[data['8_0'].duplicated()]['8_0'])\n",
        "print('zeros in 824 \\n',data[data['10_0'].duplicated()]['10_0'])\n",
        "print('zeros in 824 \\n',data[data['11_0'].duplicated()]['11_0'])\n"
      ],
      "metadata": {
        "id": "9p8tC2wZpnx8",
        "outputId": "50974b5f-190c-4095-f7d0-c1f02cb4ac03",
        "colab": {
          "base_uri": "https://localhost:8080/"
        }
      },
      "execution_count": 89,
      "outputs": [
        {
          "output_type": "stream",
          "name": "stdout",
          "text": [
            "zeros in 826 \n",
            " 784    0.0\n",
            "Name: 7_0, dtype: float64\n",
            "zeros in 826 \n",
            " 537    0.0\n",
            "Name: 8_0, dtype: float64\n",
            "zeros in 824 \n",
            " 542    0.0\n",
            "601    0.0\n",
            "790    0.0\n",
            "Name: 10_0, dtype: float64\n",
            "zeros in 824 \n",
            " 385    0.0\n",
            "434    0.0\n",
            "446    0.0\n",
            "Name: 11_0, dtype: float64\n"
          ]
        }
      ]
    },
    {
      "cell_type": "code",
      "source": [
        "import matplotlib.pyplot as plt\n",
        "import seaborn as sns\n",
        "import numpy as np\n",
        "\n",
        "fig, axes = plt.subplots(4, 1, figsize=(8, 6))\n",
        "\n",
        "sns.lineplot(x = data.columns,y=data.iloc[784,:],ax = axes[0])\n",
        "sns.lineplot(x = data.columns,y=data.iloc[537,:],ax = axes[1])\n",
        "sns.lineplot(x = data.columns,y=data.iloc[542,:],ax = axes[2])\n",
        "sns.lineplot(x = data.columns,y=data.iloc[385,:],ax = axes[3])\n",
        "\n",
        "\n",
        "axes[0].set_xticks(np.arange(0,9000, 750), labels=['0', '1', '2', '3', '4', '5','6','7','8','9','10','11'],rotation = 45)\n",
        "axes[1].set_xticks(np.arange(0,9000, 750), labels=['0', '1', '2', '3', '4', '5','6','7','8','9','10','11'],rotation = 45)\n",
        "axes[2].set_xticks(np.arange(0,9000, 750), labels=['0', '1', '2', '3', '4', '5','6','7','8','9','10','11'],rotation = 45)\n",
        "axes[3].set_xticks(np.arange(0,9000, 750), labels=['0', '1', '2', '3', '4', '5','6','7','8','9','10','11'],rotation = 45)\n",
        "\n",
        "axes[0].set(ylabel = 'subject 784',\n",
        "            xlabel = 'features in all leads',\n",
        "            title = 'ECG missing feature 7')\n",
        "axes[1].set(ylabel = 'subject 537',\n",
        "            xlabel = 'features in all leads',\n",
        "            title = 'ECG missing feature 8')\n",
        "axes[2].set(ylabel = 'subject 542',\n",
        "            xlabel = 'features in all leads',\n",
        "            title = 'ECG missing feature 10')\n",
        "axes[3].set(ylabel = 'subject 385',\n",
        "            xlabel = 'features in all leads',\n",
        "            title = 'ECG missing feature 11')\n",
        "\n",
        "plt.tight_layout()\n",
        "\n",
        "plt.show()\n"
      ],
      "metadata": {
        "id": "ovDeEJbi5i1k",
        "outputId": "29512e9a-7b3b-4fbf-8300-f6e956e99c32",
        "colab": {
          "base_uri": "https://localhost:8080/",
          "height": 607
        }
      },
      "execution_count": 96,
      "outputs": [
        {
          "output_type": "display_data",
          "data": {
            "text/plain": [
              "<Figure size 800x600 with 4 Axes>"
            ],
            "image/png": "[encoded data removed]"
          },
          "metadata": {}
        }
      ]
    },
    {
      "cell_type": "markdown",
      "source": [
        "Based on these figures we can conclude that for some patients no ECG was recorded in certain leads. Although no features are present in these leads we choose to retain these samples as information other leads may be sufficient to make a classification.\n",
        "\n",
        "However, users of this model should identify if leads are missing in the original data. **An assumption of the input data in our model is that at least 11 of the 12 leads must be present.**"
      ],
      "metadata": {
        "id": "ulo6z0O_Dniw"
      }
    },
    {
      "cell_type": "code",
      "source": [
        "print('Number of missing values:',data.isna().sum(1).sum())"
      ],
      "metadata": {
        "id": "sFJWLa_0HLbD",
        "outputId": "3e631192-3196-4daf-b6ed-bc5adcb05f57",
        "colab": {
          "base_uri": "https://localhost:8080/"
        }
      },
      "execution_count": 110,
      "outputs": [
        {
          "output_type": "stream",
          "name": "stdout",
          "text": [
            "Number of missing values: 0\n"
          ]
        }
      ]
    },
    {
      "cell_type": "markdown",
      "source": [
        "There are no missing values present. **An assumption of the input data in our model is that missing values should be handled in a appropriate manner depending on the frequency/distribution of the missing values.**"
      ],
      "metadata": {
        "id": "TLCjpHwsHfck"
      }
    },
    {
      "cell_type": "code",
      "source": [],
      "metadata": {
        "id": "7_6WlP8tINF0"
      },
      "execution_count": null,
      "outputs": []
    },
    {
      "cell_type": "code",
      "source": [
        "# Verhoudingen van de groepen\n",
        "import matplotlib.pyplot as plt\n",
        "text = ['normaal','afwijkend']\n",
        "lst_labels = list(labels)\n",
        "frequentie = [lst_labels.count(0), lst_labels.count(1)]\n",
        "plt.bar(text, frequentie)\n",
        "plt.title('Frequentie van een normaal en afwijkend hartritme')\n",
        "plt.ylabel('Aantal')\n",
        "plt.show()"
      ],
      "metadata": {
        "id": "2YJ7GJTZw8v8",
        "outputId": "cc7553be-170c-47ed-81da-6617acc91a1b",
        "colab": {
          "base_uri": "https://localhost:8080/",
          "height": 211
        }
      },
      "execution_count": 51,
      "outputs": [
        {
          "output_type": "error",
          "ename": "NameError",
          "evalue": "name 'labels' is not defined",
          "traceback": [
            "\u001b[0;31m---------------------------------------------------------------------------\u001b[0m",
            "\u001b[0;31mNameError\u001b[0m                                 Traceback (most recent call last)",
            "\u001b[0;32m<ipython-input-51-beff821607eb>\u001b[0m in \u001b[0;36m<cell line: 4>\u001b[0;34m()\u001b[0m\n\u001b[1;32m      2\u001b[0m \u001b[0;32mimport\u001b[0m \u001b[0mmatplotlib\u001b[0m\u001b[0;34m.\u001b[0m\u001b[0mpyplot\u001b[0m \u001b[0;32mas\u001b[0m \u001b[0mplt\u001b[0m\u001b[0;34m\u001b[0m\u001b[0;34m\u001b[0m\u001b[0m\n\u001b[1;32m      3\u001b[0m \u001b[0mtext\u001b[0m \u001b[0;34m=\u001b[0m \u001b[0;34m[\u001b[0m\u001b[0;34m'normaal'\u001b[0m\u001b[0;34m,\u001b[0m\u001b[0;34m'afwijkend'\u001b[0m\u001b[0;34m]\u001b[0m\u001b[0;34m\u001b[0m\u001b[0;34m\u001b[0m\u001b[0m\n\u001b[0;32m----> 4\u001b[0;31m \u001b[0mlst_labels\u001b[0m \u001b[0;34m=\u001b[0m \u001b[0mlist\u001b[0m\u001b[0;34m(\u001b[0m\u001b[0mlabels\u001b[0m\u001b[0;34m)\u001b[0m\u001b[0;34m\u001b[0m\u001b[0;34m\u001b[0m\u001b[0m\n\u001b[0m\u001b[1;32m      5\u001b[0m \u001b[0mfrequentie\u001b[0m \u001b[0;34m=\u001b[0m \u001b[0;34m[\u001b[0m\u001b[0mlst_labels\u001b[0m\u001b[0;34m.\u001b[0m\u001b[0mcount\u001b[0m\u001b[0;34m(\u001b[0m\u001b[0;36m0\u001b[0m\u001b[0;34m)\u001b[0m\u001b[0;34m,\u001b[0m \u001b[0mlst_labels\u001b[0m\u001b[0;34m.\u001b[0m\u001b[0mcount\u001b[0m\u001b[0;34m(\u001b[0m\u001b[0;36m1\u001b[0m\u001b[0;34m)\u001b[0m\u001b[0;34m]\u001b[0m\u001b[0;34m\u001b[0m\u001b[0;34m\u001b[0m\u001b[0m\n\u001b[1;32m      6\u001b[0m \u001b[0mplt\u001b[0m\u001b[0;34m.\u001b[0m\u001b[0mbar\u001b[0m\u001b[0;34m(\u001b[0m\u001b[0mtext\u001b[0m\u001b[0;34m,\u001b[0m \u001b[0mfrequentie\u001b[0m\u001b[0;34m)\u001b[0m\u001b[0;34m\u001b[0m\u001b[0;34m\u001b[0m\u001b[0m\n",
            "\u001b[0;31mNameError\u001b[0m: name 'labels' is not defined"
          ]
        }
      ]
    },
    {
      "cell_type": "code",
      "source": [
        "# Voorbeeld van een eerste plotje\n",
        "import matplotlib.pyplot as plt\n",
        "\n",
        "feature_1 = '0_0'\n",
        "feature_2 = '11_742'\n",
        "scatter = plt.scatter(feature_data[feature_1],feature_data[feature_2], c = labels)\n",
        "plt.title('Een voorbeeld van twee features tegen elkaar uitgezet')\n",
        "plt.xlabel(feature_1)\n",
        "plt.ylabel(feature_2)\n",
        "legend1 = plt.legend(*scatter.legend_elements(),\n",
        "                    loc=\"upper right\", title=\"Klasses\")\n",
        "plt.show()"
      ],
      "metadata": {
        "id": "nRP6qAJT_TrJ"
      },
      "execution_count": null,
      "outputs": []
    },
    {
      "cell_type": "markdown",
      "source": [
        "We kunnen een scatter maken. De waarden lopen heel erg uiteen. Scaling is dus belangrijk"
      ],
      "metadata": {
        "id": "7CDZVL8aAUuV"
      }
    },
    {
      "cell_type": "code",
      "source": [
        "# Testen per feature of het normaal verdeeld is per groep\n",
        "from scipy.stats import shapiro\n",
        "\n",
        "data_gezond = data[data[\"label\"] == 0]\n",
        "data_afwijkend = data[data[\"label\"] == 1]\n",
        "\n",
        "data_gezond = data_gezond.drop('label',axis = 1)\n",
        "data_afwijkend = data_afwijkend.drop('label',axis = 1)\n",
        "\n",
        "niet_nrml_vd_gezond = dict()\n",
        "for kolomnaam in data_gezond.columns:\n",
        "  statistiek = shapiro(list(data_gezond[kolomnaam]))\n",
        "  if statistiek[1] > 0.05:\n",
        "    niet_nrml_vd_gezond[kolomnaam] = statistiek[1]\n",
        "print(niet_nrml_vd_gezond)\n",
        "\n",
        "niet_nrml_vd_afwijkend = dict()\n",
        "for kolomnaam in data_afwijkend.columns:\n",
        "  statistiek = shapiro(list(data_afwijkend[kolomnaam]))\n",
        "  if statistiek[1] > 0.05:\n",
        "    niet_nrml_vd_afwijkend[kolomnaam] = statistiek[1]\n",
        "print(niet_nrml_vd_afwijkend)\n",
        "\n"
      ],
      "metadata": {
        "id": "nZCFA9ZcAa-A"
      },
      "execution_count": null,
      "outputs": []
    },
    {
      "cell_type": "markdown",
      "source": [
        "conclusie: Aan de hand van een shapiro test met een p-waarde van 0.05 is gebleken dat alle features normaal verdeeld zijn."
      ],
      "metadata": {
        "id": "XOuF6EOgzWtw"
      }
    },
    {
      "cell_type": "markdown",
      "source": [
        "## Soorteren op meest significant verschillend\n",
        "Hieronder wordt een tweezijdige T-test gedaan voor de data. Er wordt gekeken of er een significant verschil is tussen de gezond of ongezond groep per feature. De meest significant verschillende features worden vervolgens gebruikt om een pairplot te maken"
      ],
      "metadata": {
        "id": "M7t8DDFK7kVt"
      }
    },
    {
      "cell_type": "code",
      "source": [
        "from scipy.stats import ttest_ind\n",
        "import numpy as np\n",
        "p_values = ttest_ind(a=data_gezond, b=data_afwijkend, axis = 0, equal_var=False)\n",
        "\n",
        "dict_p_values = dict()\n",
        "for kolom in data_gezond.columns:\n",
        "  p_value = ttest_ind(data_gezond[kolom],data_afwijkend[kolom],equal_var=False)\n",
        "  dict_p_values[kolom] = p_value[1]\n",
        "\n",
        "print(dict_p_values)\n",
        "dict_sorted_p_values = dict(sorted(dict_p_values.items(),key = lambda x:x[1]))\n",
        "print(dict_sorted_p_values)\n",
        "features_sorted = list(dict_sorted_p_values.keys())\n",
        "# sort_ind = np.argsort(p_values[1])\n",
        "# print(sort_ind)\n",
        "# print(np.array(p_values[1]))"
      ],
      "metadata": {
        "id": "ZDg37_wWze8J"
      },
      "execution_count": null,
      "outputs": []
    },
    {
      "cell_type": "code",
      "source": [
        "import seaborn as sns\n",
        "most_sign_data = data[features_sorted[:4] + [\"label\"]]\n",
        "sns.pairplot(data = most_sign_data,hue = \"label\")"
      ],
      "metadata": {
        "id": "EPpFE0KA6uh5"
      },
      "execution_count": null,
      "outputs": []
    }
  ],
  "metadata": {
    "colab": {
      "provenance": [],
      "toc_visible": true,
      "include_colab_link": true
    },
    "kernelspec": {
      "display_name": "Python 3",
      "language": "python",
      "name": "python3"
    },
    "language_info": {
      "codemirror_mode": {
        "name": "ipython",
        "version": 3
      },
      "file_extension": ".py",
      "mimetype": "text/x-python",
      "name": "python",
      "nbconvert_exporter": "python",
      "pygments_lexer": "ipython3",
      "version": "3.8.5"
    }
  },
  "nbformat": 4,
  "nbformat_minor": 0
}