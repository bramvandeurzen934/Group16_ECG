{
  "cells": [
    {
      "cell_type": "markdown",
      "metadata": {
        "id": "view-in-github",
        "colab_type": "text"
      },
      "source": [
        "<a href=\"https://colab.research.google.com/github/bramvandeurzen934/Group16_ECG/blob/main/assignment_ecg_SVC.ipynb\" target=\"_parent\"><img src=\"https://colab.research.google.com/assets/colab-badge.svg\" alt=\"Open In Colab\"/></a>"
      ]
    },
    {
      "cell_type": "markdown",
      "metadata": {
        "id": "7SXpaKwwGe5x"
      },
      "source": [
        "# TM10007 Assignment template -- ECG data"
      ]
    },
    {
      "cell_type": "markdown",
      "metadata": {
        "id": "UN7eo_Ba6Dr_"
      },
      "source": [
        "## Data loading and exploration\n",
        "\n",
        "Below are functions to load the dataset of your choice. After that, it is all up to you to create and evaluate a classification method. Beware, there may be missing values in these datasets. Good luck!"
      ]
    },
    {
      "cell_type": "code",
      "execution_count": 52,
      "metadata": {
        "colab": {
          "base_uri": "https://localhost:8080/"
        },
        "id": "CiDn2Sk-VWqE",
        "outputId": "ab029a6c-5579-4fdf-b487-f377718a4750"
      },
      "outputs": [
        {
          "output_type": "stream",
          "name": "stdout",
          "text": [
            "fatal: destination path 'Group16_ECG' already exists and is not an empty directory.\n",
            "The number of samples: 827\n",
            "The number of columns: 9001\n"
          ]
        }
      ],
      "source": [
        "# Run this to use from colab environment\n",
        "!git clone https://github.com/bramvandeurzen934/Group16_ECG.git\n",
        "\n",
        "import zipfile\n",
        "import os\n",
        "import pandas as pd\n",
        "\n",
        "with zipfile.ZipFile('/content/Group16_ECG/ecg_data.zip', 'r') as zip_ref:\n",
        "    zip_ref.extractall('/content/Group16_ECG')\n",
        "\n",
        "data = pd.read_csv('/content/Group16_ECG/ecg_data.csv', index_col=0)\n",
        "\n",
        "labels = data['label']\n",
        "feature_data = data.drop('label',axis = 1)\n",
        "\n",
        "print(f'The number of samples: {len(data.index)}')\n",
        "print(f'The number of columns: {len(data.columns)}')"
      ]
    },
    {
      "cell_type": "code",
      "source": [
        "# Distribution labels\n",
        "import matplotlib.pyplot as plt\n",
        "text = ['normal ECG','abnormal ECG']\n",
        "lst_labels = list(labels)\n",
        "frequentie = [lst_labels.count(0), lst_labels.count(1)]\n",
        "plt.bar(text, frequentie)\n",
        "plt.title('Total amount of normal and abnormal ECGs')\n",
        "plt.ylabel('Count')\n",
        "plt.show()"
      ],
      "metadata": {
        "id": "2YJ7GJTZw8v8",
        "outputId": "f3041f73-b161-4e3c-e3e0-f950c125436d",
        "colab": {
          "base_uri": "https://localhost:8080/",
          "height": 452
        }
      },
      "execution_count": 53,
      "outputs": [
        {
          "output_type": "display_data",
          "data": {
            "text/plain": [
              "<Figure size 640x480 with 1 Axes>"
            ],
            "image/png": "[encoded data removed]"
          },
          "metadata": {}
        }
      ]
    },
    {
      "cell_type": "markdown",
      "source": [
        "This figure shows us that the data is unbalanced. The number of labels differs between the normal and abnormal ECGs. Based on the literature we will look for methods to compensate for the unbalanced data."
      ],
      "metadata": {
        "id": "nD30nc11-6-Q"
      }
    },
    {
      "cell_type": "code",
      "source": [
        "# Testen per feature of het normaal verdeeld is per groep\n",
        "from scipy.stats import shapiro\n",
        "\n",
        "data_gezond = data[data[\"label\"] == 0]\n",
        "data_afwijkend = data[data[\"label\"] == 1]\n",
        "\n",
        "data_gezond = data_gezond.drop('label',axis = 1)\n",
        "data_afwijkend = data_afwijkend.drop('label',axis = 1)\n",
        "\n",
        "niet_nrml_vd_gezond = dict()\n",
        "for kolomnaam in data_gezond.columns:\n",
        "  statistiek = shapiro(list(data_gezond[kolomnaam]))\n",
        "  if statistiek[1] > 0.05:\n",
        "    niet_nrml_vd_gezond[kolomnaam] = statistiek[1]\n",
        "print(niet_nrml_vd_gezond)\n",
        "\n",
        "niet_nrml_vd_afwijkend = dict()\n",
        "for kolomnaam in data_afwijkend.columns:\n",
        "  statistiek = shapiro(list(data_afwijkend[kolomnaam]))\n",
        "  if statistiek[1] > 0.05:\n",
        "    niet_nrml_vd_afwijkend[kolomnaam] = statistiek[1]\n",
        "print(niet_nrml_vd_afwijkend)\n",
        "\n"
      ],
      "metadata": {
        "id": "nZCFA9ZcAa-A",
        "outputId": "498ad3ab-977f-48a9-d26e-7f8127b7ce15",
        "colab": {
          "base_uri": "https://localhost:8080/"
        }
      },
      "execution_count": 54,
      "outputs": [
        {
          "output_type": "stream",
          "name": "stdout",
          "text": [
            "{}\n",
            "{}\n"
          ]
        }
      ]
    },
    {
      "cell_type": "markdown",
      "source": [
        "Based on the shapiro test with a p-value of 0.05 we found that all features are normally distributed. Therefore, we will use mean and standard deviation to describe the data."
      ],
      "metadata": {
        "id": "XOuF6EOgzWtw"
      }
    },
    {
      "cell_type": "markdown",
      "source": [
        "### Missing values in data"
      ],
      "metadata": {
        "id": "_0ea6lhiF5TW"
      }
    },
    {
      "cell_type": "code",
      "source": [
        "import matplotlib.pyplot as plt\n",
        "import seaborn as sns\n",
        "import numpy as np\n",
        "\n",
        "fig, axes = plt.subplots(4, 1, figsize=(8, 6))\n",
        "\n",
        "sns.lineplot(x = data.columns,y=data.iloc[784,:],ax = axes[0])\n",
        "sns.lineplot(x = data.columns,y=data.iloc[537,:],ax = axes[1])\n",
        "sns.lineplot(x = data.columns,y=data.iloc[542,:],ax = axes[2])\n",
        "sns.lineplot(x = data.columns,y=data.iloc[385,:],ax = axes[3])\n",
        "\n",
        "\n",
        "axes[0].set_xticks(np.arange(0,9000, 750), labels=['0', '1', '2', '3', '4', '5','6','7','8','9','10','11'],rotation = 45)\n",
        "axes[1].set_xticks(np.arange(0,9000, 750), labels=['0', '1', '2', '3', '4', '5','6','7','8','9','10','11'],rotation = 45)\n",
        "axes[2].set_xticks(np.arange(0,9000, 750), labels=['0', '1', '2', '3', '4', '5','6','7','8','9','10','11'],rotation = 45)\n",
        "axes[3].set_xticks(np.arange(0,9000, 750), labels=['0', '1', '2', '3', '4', '5','6','7','8','9','10','11'],rotation = 45)\n",
        "\n",
        "axes[0].set(ylabel = 'subject 784',\n",
        "            xlabel = 'features in all leads',\n",
        "            title = 'ECG missing lead 7')\n",
        "axes[1].set(ylabel = 'subject 537',\n",
        "            xlabel = 'features in all leads',\n",
        "            title = 'ECG missing lead 8')\n",
        "axes[2].set(ylabel = 'subject 542',\n",
        "            xlabel = 'features in all leads',\n",
        "            title = 'ECG missing lead 10')\n",
        "axes[3].set(ylabel = 'subject 385',\n",
        "            xlabel = 'features in all leads',\n",
        "            title = 'ECG missing lead 11')\n",
        "\n",
        "plt.tight_layout()\n",
        "\n",
        "plt.show()"
      ],
      "metadata": {
        "colab": {
          "base_uri": "https://localhost:8080/",
          "height": 607
        },
        "id": "Zq_PTGrWF8hg",
        "outputId": "44466652-6682-4972-dcf6-64ead7ee9dc5"
      },
      "execution_count": 55,
      "outputs": [
        {
          "output_type": "display_data",
          "data": {
            "text/plain": [
              "<Figure size 800x600 with 4 Axes>"
            ],
            "image/png": "[encoded data removed]"
          },
          "metadata": {}
        }
      ]
    },
    {
      "cell_type": "markdown",
      "source": [
        "### Sorting the features on greatest significant differences between abnormal and normal ECG\n",
        "A two tailed T-test is performed on the data per feature. The test will find if there is a significant difference between the normal and abnormal ECG per feature. The features are sorted based on the p-value. The five most distinctive features are shown in the pairplot."
      ],
      "metadata": {
        "id": "M7t8DDFK7kVt"
      }
    },
    {
      "cell_type": "code",
      "source": [
        "from scipy.stats import ttest_ind\n",
        "import numpy as np\n",
        "import seaborn as sns\n",
        "\n",
        "p_values = ttest_ind(a=data_gezond, b=data_afwijkend, axis = 0, equal_var=False)\n",
        "\n",
        "dict_p_values = dict()\n",
        "for kolom in data_gezond.columns:\n",
        "  p_value = ttest_ind(data_gezond[kolom],data_afwijkend[kolom],equal_var=False)\n",
        "  dict_p_values[kolom] = p_value[1]\n",
        "\n",
        "dict_sorted_p_values = dict(sorted(dict_p_values.items(),key = lambda x:x[1]))\n",
        "features_sorted = list(dict_sorted_p_values.keys())\n",
        "\n",
        "most_sign_data = data[features_sorted[:4] + [\"label\"]]\n",
        "sns.pairplot(data = most_sign_data,hue = \"label\")"
      ],
      "metadata": {
        "colab": {
          "base_uri": "https://localhost:8080/",
          "height": 1000
        },
        "id": "ZDg37_wWze8J",
        "outputId": "c6f832bc-b1bf-4d93-bad2-407437b4c5b6"
      },
      "execution_count": 56,
      "outputs": [
        {
          "output_type": "execute_result",
          "data": {
            "text/plain": [
              "<seaborn.axisgrid.PairGrid at 0x7bab77c90e80>"
            ]
          },
          "metadata": {},
          "execution_count": 56
        },
        {
          "output_type": "display_data",
          "data": {
            "text/plain": [
              "<Figure size 1058.88x1000 with 20 Axes>"
            ],
            "image/png": "[encoded data removed]"
          },
          "metadata": {}
        }
      ]
    },
    {
      "cell_type": "markdown",
      "source": [
        "In this figure we observe that the following two things:\n",
        "*   The features are noramlly distributed for the normal and abnormal ECGs and outliers a present pulling the distribution to the right. (this corresponds to the shapiro tests we did before)\n",
        "*  In the graphs where features are plotted against each other, we see that the samples are linearly distributed (a linear kernel to describe the data structure seems the most appropriate option)\n",
        "\n"
      ],
      "metadata": {
        "id": "FnOsRlCHA3G5"
      }
    },
    {
      "cell_type": "markdown",
      "source": [
        "## Data preprocessing\n",
        "\n",
        "In this section we will perform imputation (missing values), normalisation (scaling) and oversampling to overcome unbalanced data."
      ],
      "metadata": {
        "id": "cDNkzQDKBz8y"
      }
    },
    {
      "cell_type": "code",
      "source": [
        "from sklearn.model_selection import StratifiedShuffleSplit\n",
        "\n",
        "X = data.copy()\n",
        "X = X.drop('label',axis = 1)\n",
        "y = data['label']\n",
        "\n",
        "#Performing a stratified train-test split\n",
        "sss =  StratifiedShuffleSplit(n_splits=1, test_size=0.2, random_state=0)\n",
        "\n",
        "train_index, test_index = next(sss.split(X, y))\n",
        "\n",
        "#Selecting the training and testing samples\n",
        "X_train = X.iloc[train_index]\n",
        "X_test  = X.iloc[test_index]\n",
        "y_train = y.iloc[train_index]\n",
        "y_test  = y.iloc[test_index]\n",
        "\n",
        "\n",
        "## Printing of the results\n",
        "print(f'splitted in stratified train-test split with {len(X_train)} training samples and {len(X_train)} testing samples')\n",
        "print(f'Trainset (n={len(X_train)}): {round(sum(y_train == 1)/(sum(y_train == 0)+   sum(y_train == 1)),3)*100}% of samples is abnormal')\n",
        "print(f'Testset (n={len(X_test)}): {round(sum(y_test == 1)/(sum(y_test == 0)+ sum(y_test == 1)),3)*100}% of samples is abnormal')"
      ],
      "metadata": {
        "colab": {
          "base_uri": "https://localhost:8080/"
        },
        "id": "laiBjQobDBMp",
        "outputId": "771711a0-76e7-41ce-fe14-179dd41e55e4"
      },
      "execution_count": 57,
      "outputs": [
        {
          "output_type": "stream",
          "name": "stdout",
          "text": [
            "splitted in stratified train-test split with 661 training samples and 661 testing samples\n",
            "Trainset (n=661): 17.7% of samples is abnormal\n",
            "Testset (n=166): 17.5% of samples is abnormal\n"
          ]
        }
      ]
    },
    {
      "cell_type": "markdown",
      "source": [
        "### Choosing scaling method"
      ],
      "metadata": {
        "id": "BQwMX_ohDWVA"
      }
    },
    {
      "cell_type": "code",
      "source": [
        "from sklearn import preprocessing\n",
        "\n",
        "# standardscaler\n",
        "scaler_st = preprocessing.StandardScaler()\n",
        "scaler_st.fit(X_train)\n",
        "X_train_st_scaled = pd.DataFrame(scaler_st.transform(X_train),columns = X_train.columns,index = X_train.index)\n",
        "X_test_st_scaled = scaler_st.transform(X_test)\n",
        "\n",
        "# smin max scaler\n",
        "scaler_max = preprocessing.MinMaxScaler()\n",
        "scaler_max.fit(X_train)\n",
        "X_train_max_scaled = pd.DataFrame(scaler_max.transform(X_train),columns = X_train.columns,index = X_train.index)\n",
        "X_test_max_scaled = scaler_max.transform(X_test)\n",
        "\n",
        "# robust scaler\n",
        "scaler_rob = preprocessing.RobustScaler()\n",
        "scaler_rob.fit(X_train)\n",
        "X_train_rob_scaled = pd.DataFrame(scaler_rob.transform(X_train),columns = X_train.columns,index = X_train.index)\n",
        "X_test_rob_scaled = scaler_rob.transform(X_test)\n",
        "\n",
        "# chose scaler is robust scaler\n",
        "X_train_scaled = scaler_rob.transform(X_train)\n",
        "X_test_scaled = scaler_rob.transform(X_test)"
      ],
      "metadata": {
        "id": "w09m7iLCDVbl"
      },
      "execution_count": 58,
      "outputs": []
    },
    {
      "cell_type": "code",
      "source": [
        "# figures showing the scalers\n",
        "fig, axs = plt.subplots(3,2,figsize = [6,6])\n",
        "\n",
        "sns.kdeplot(data = X_train,x = '0_0',hue = y_train,fill = True, ax = axs[0,0])\n",
        "axs[0,0].set(title = 'unscaled data 0_0')\n",
        "\n",
        "sns.kdeplot(data = X_train,x = '0_749',hue = y_train,fill = True, ax = axs[0,1])\n",
        "axs[0,1].set(title = 'unscaled data 0_749',\n",
        "             xlim = [-1,5])\n",
        "\n",
        "sns.kdeplot(data = X_train_st_scaled,x = '0_0',hue = y_train,fill = True, ax = axs[1,0])\n",
        "sns.kdeplot(data = X_train_st_scaled,x = '0_749',hue = y_train,fill = True, ax = axs[1,0])\n",
        "axs[1,0].set(title = 'standard scaled data',\n",
        "             xlim = [-1,5],\n",
        "             xlabel = '0_0 and 0_749')\n",
        "\n",
        "sns.kdeplot(data = X_train_max_scaled,x = '0_0',hue = y_train,fill = True, ax = axs[1,1])\n",
        "sns.kdeplot(data = X_train_max_scaled,x = '0_749',hue = y_train,fill = True, ax = axs[1,1])\n",
        "axs[1,1].set(title = 'max scaled data',\n",
        "             xlim = [-0.1,0.1],\n",
        "             xlabel = '0_0 and 0_749')\n",
        "\n",
        "sns.kdeplot(data = X_train_rob_scaled,x = '0_0',hue = y_train,fill = True, ax = axs[2,0])\n",
        "sns.kdeplot(data = X_train_rob_scaled,x = '0_749',hue = y_train,fill = True, ax = axs[2,0])\n",
        "axs[2,0].set(title = 'robust scaled data',\n",
        "             xlim = [-5,10],\n",
        "             xlabel = '0_0 and 0_749')\n",
        "\n",
        "axs[2,1].remove()\n",
        "\n",
        "plt.tight_layout()"
      ],
      "metadata": {
        "colab": {
          "base_uri": "https://localhost:8080/",
          "height": 607
        },
        "id": "Kr1bNDH2FWik",
        "outputId": "20927b45-6fe5-46f3-e4dc-48200a4a99f6"
      },
      "execution_count": 59,
      "outputs": [
        {
          "output_type": "display_data",
          "data": {
            "text/plain": [
              "<Figure size 600x600 with 5 Axes>"
            ],
            "image/png": "[encoded data removed]"
          },
          "metadata": {}
        }
      ]
    },
    {
      "cell_type": "markdown",
      "source": [
        "Conclusions:\n",
        "*   Minimum maximum scaler will not be used. When outliers are present such as in feature 0_0 we observe that distribution of feature 0_0 gets flattened. Inliers are cropped with the max scaler resulting in a deviated distribution from the original feature.\n",
        "*   Robust scaler: scales the data with the IQR and median. It retains the distribution of the data especially when the distribution is not Gaussian. It is particularly useful when there is a non normal distribution.\n",
        "*   Standard scaler: as there is a bit of skewness in the data of feature 0_0 we see when using the mean and standard deviation that the distribution shifts to the left. Because of outliers you can observe that the data inclines to the right (there data is not perfectly normal distributed). **When you are using standards scaled data, the mean is shifted towards the outliers and with robust scaling we don't have problems with this. **\n",
        "\n",
        "Overall conclusions:\n",
        "*   Robust scaler is preferred (other benefits: more stable and versatile)\n",
        "*   Skewness is present (caused by outliers)\n",
        "*   Normal distribution is perceivable (as tested by Eva before)"
      ],
      "metadata": {
        "id": "_y3eVD2uFm80"
      }
    },
    {
      "cell_type": "markdown",
      "source": [
        "### Preprocessing\n",
        "In this section we apply the computations we discussed in the literature/experiments."
      ],
      "metadata": {
        "id": "qg18kMqpGQy8"
      }
    },
    {
      "cell_type": "code",
      "source": [
        "from sklearn.impute import SimpleImputer\n",
        "from sklearn.model_selection import StratifiedKFold\n",
        "from sklearn import preprocessing\n",
        "import numpy as np\n",
        "from imblearn.over_sampling import RandomOverSampler, SMOTE\n",
        "from sklearn.decomposition import PCA, KernelPCA\n",
        "from sklearn.linear_model import Lasso\n",
        "from sklearn.feature_selection import mutual_info_classif, SelectKBest, RFECV\n",
        "import seaborn as sns\n",
        "import matplotlib.pyplot as plt\n",
        "\n",
        "\n",
        "####### PREPROCESSING #######\n",
        "# 1) Replacing the zero values with their mean #\n",
        "X_train.replace(0, np.nan, inplace=True)\n",
        "imp_median = SimpleImputer(missing_values = np.nan, strategy = 'median')\n",
        "imp_median.fit(X_train)\n",
        "X_train_imputed = pd.DataFrame(imp_median.transform(X_train),columns = X_train.columns,index = X_train.index)\n",
        "X_test_imputed = pd.DataFrame(imp_median.transform(X_test),columns = X_test.columns, index = X_test.index)\n",
        "\n",
        "# 2) Normalizing the data #\n",
        "# robust scaler\n",
        "scaler = preprocessing.RobustScaler()\n",
        "scaler.fit(X_train_imputed)\n",
        "X_train_scaled = pd.DataFrame(scaler.transform(X_train_imputed),columns = X_train_imputed.columns,index = X_train_imputed.index)\n",
        "X_test_scaled = pd.DataFrame(scaler.transform(X_test_imputed),columns = X_test_imputed.columns,index = X_test_imputed.index)\n",
        "\n",
        "# 3) Oversampling\n",
        "# oversampler = SMOTE()\n",
        "# X_train_oversampled,y_train_oversampled = oversampler.fit_resample(X_train_scaled,y_train)"
      ],
      "metadata": {
        "id": "YyxrnpMHDQl3"
      },
      "execution_count": 102,
      "outputs": []
    },
    {
      "cell_type": "markdown",
      "source": [
        "Due to oversampling the labels are equally distributed (n = 544 for each label)"
      ],
      "metadata": {
        "id": "B12cn1cTHEmM"
      }
    },
    {
      "cell_type": "markdown",
      "source": [
        "## Feature selection\n",
        "We will perform feature selection because we observed the curse of dimensionality (9000 features). Our first goal is to reduce the number of features. We first chose other/simpler feature reduction techniques than PCA because PCA is hard to interpret by clinicians.\n"
      ],
      "metadata": {
        "id": "Jx-22y32HMRL"
      }
    },
    {
      "cell_type": "code",
      "source": [
        "from imblearn.pipeline import Pipeline\n",
        "from sklearn.svm import SVC\n",
        "from sklearn.model_selection import GridSearchCV\n",
        "from sklearn.feature_selection import SelectFromModel, mutual_info_classif\n",
        "from imblearn.over_sampling import RandomOverSampler\n",
        "\n",
        "X_train = X_train_scaled\n",
        "X_test = X_test_scaled\n",
        "\n",
        "\n",
        "# Display the weights and compute error for multiple values for alpha\n",
        "n_alphas = 10\n",
        "alphas = np.logspace(-4, -1, n_alphas)\n",
        "scores = []\n",
        "n_features = []\n",
        "features_lasso = {}\n",
        "feature_names_lasso = {}\n",
        "\n",
        "for alpha in alphas:\n",
        "  # # Fit Lasso on the training data\n",
        "  # lasso = Lasso(alpha=alpha)  # Choose appropriate alpha\n",
        "  # lasso.fit(X_train, y_train)\n",
        "  print(alpha)\n",
        "  # # Extract non-zero coefficients\n",
        "  # selected_features_lasso = lasso.coef_ != 0\n",
        "  # print(f'number of selected features in {alpha}',selected_features_lasso.sum())\n",
        "  # features_lasso[alpha] = X_train.loc[:,selected_features_lasso]\n",
        "  # feature_names_lasso[alpha] = X_train.loc[:,selected_features_lasso].columns\n",
        "  # # Select features from the original dataset\n",
        "  # X_train_selected = X_train.loc[:, selected_features_lasso]\n",
        "  lasso = Lasso(alpha = alpha)\n",
        "  # Define the pipeline\n",
        "  pipeline = Pipeline([\n",
        "       ('selectmodel',SelectFromModel(lasso)),\n",
        "       ('sampling',RandomOverSampler(random_state=1)),\n",
        "       ('model', SVC(random_state=1)),                  # Step 4: SMOTE for oversampling\n",
        "  ])\n",
        "\n",
        "  # Define parameter grid for GridSearchCV\n",
        "  param_grid = {\n",
        "      'model__kernel': ['linear']\n",
        "  }\n",
        "  # Create GridSearchCV object\n",
        "  grid_search = GridSearchCV(estimator=pipeline, param_grid=param_grid, cv=5,verbose = 2,error_score='raise',scoring = 'f1')\n",
        "\n",
        "  # Fit GridSearchCV to the training data\n",
        "  grid_search.fit(X_train, y_train)\n",
        "\n",
        "  # Print best parameters and best score\n",
        "  print(f\"Best parameters {alpha}:\", grid_search.best_params_)\n",
        "  print(f\"Best score F1 {alpha}:\", grid_search.best_score_)\n",
        "\n",
        "  scores.append(grid_search.cv_results_['mean_test_score'])\n",
        "\n",
        "    # Access the SelectFromModel transformer from the pipeline after fitting\n",
        "  selectmodel = grid_search.best_estimator_.named_steps['selectmodel']\n",
        "  selected_features = sum(selectmodel.get_support())\n",
        "\n",
        "  n_features.append(selected_features)\n",
        "\n",
        "  # Evaluate the best model on the test data\n",
        "  # models_lasso.append(lasso)\n",
        "\n",
        "# select best model\n",
        "#index_max = scores.index(max(scores))\n",
        "#best_model_lasso = models_lasso[index_max]"
      ],
      "metadata": {
        "id": "q_vn-8xeY8Rb",
        "outputId": "8c04c173-d76d-459e-d205-0cfda075d5a5",
        "colab": {
          "base_uri": "https://localhost:8080/"
        }
      },
      "execution_count": 116,
      "outputs": [
        {
          "output_type": "stream",
          "name": "stdout",
          "text": [
            "0.0001\n",
            "Fitting 5 folds for each of 1 candidates, totalling 5 fits\n"
          ]
        },
        {
          "output_type": "stream",
          "name": "stderr",
          "text": [
            "/usr/local/lib/python3.10/dist-packages/sklearn/linear_model/_coordinate_descent.py:631: ConvergenceWarning: Objective did not converge. You might want to increase the number of iterations, check the scale of the features or consider increasing regularisation. Duality gap: 2.910e-01, tolerance: 7.662e-03\n",
            "  model = cd_fast.enet_coordinate_descent(\n"
          ]
        },
        {
          "output_type": "stream",
          "name": "stdout",
          "text": [
            "[CV] END ...............................model__kernel=linear; total time=   6.2s\n"
          ]
        },
        {
          "output_type": "stream",
          "name": "stderr",
          "text": [
            "/usr/local/lib/python3.10/dist-packages/sklearn/linear_model/_coordinate_descent.py:631: ConvergenceWarning: Objective did not converge. You might want to increase the number of iterations, check the scale of the features or consider increasing regularisation. Duality gap: 2.710e-01, tolerance: 7.730e-03\n",
            "  model = cd_fast.enet_coordinate_descent(\n"
          ]
        },
        {
          "output_type": "stream",
          "name": "stdout",
          "text": [
            "[CV] END ...............................model__kernel=linear; total time=   5.8s\n"
          ]
        },
        {
          "output_type": "stream",
          "name": "stderr",
          "text": [
            "/usr/local/lib/python3.10/dist-packages/sklearn/linear_model/_coordinate_descent.py:631: ConvergenceWarning: Objective did not converge. You might want to increase the number of iterations, check the scale of the features or consider increasing regularisation. Duality gap: 2.888e-01, tolerance: 7.730e-03\n",
            "  model = cd_fast.enet_coordinate_descent(\n"
          ]
        },
        {
          "output_type": "stream",
          "name": "stdout",
          "text": [
            "[CV] END ...............................model__kernel=linear; total time=   5.5s\n"
          ]
        },
        {
          "output_type": "stream",
          "name": "stderr",
          "text": [
            "/usr/local/lib/python3.10/dist-packages/sklearn/linear_model/_coordinate_descent.py:631: ConvergenceWarning: Objective did not converge. You might want to increase the number of iterations, check the scale of the features or consider increasing regularisation. Duality gap: 3.657e-01, tolerance: 7.730e-03\n",
            "  model = cd_fast.enet_coordinate_descent(\n"
          ]
        },
        {
          "output_type": "stream",
          "name": "stdout",
          "text": [
            "[CV] END ...............................model__kernel=linear; total time=   6.9s\n"
          ]
        },
        {
          "output_type": "stream",
          "name": "stderr",
          "text": [
            "/usr/local/lib/python3.10/dist-packages/sklearn/linear_model/_coordinate_descent.py:631: ConvergenceWarning: Objective did not converge. You might want to increase the number of iterations, check the scale of the features or consider increasing regularisation. Duality gap: 2.509e-01, tolerance: 7.665e-03\n",
            "  model = cd_fast.enet_coordinate_descent(\n"
          ]
        },
        {
          "output_type": "stream",
          "name": "stdout",
          "text": [
            "[CV] END ...............................model__kernel=linear; total time=   6.7s\n"
          ]
        },
        {
          "output_type": "stream",
          "name": "stderr",
          "text": [
            "/usr/local/lib/python3.10/dist-packages/sklearn/linear_model/_coordinate_descent.py:631: ConvergenceWarning: Objective did not converge. You might want to increase the number of iterations, check the scale of the features or consider increasing regularisation. Duality gap: 4.837e-01, tolerance: 9.629e-03\n",
            "  model = cd_fast.enet_coordinate_descent(\n"
          ]
        },
        {
          "output_type": "stream",
          "name": "stdout",
          "text": [
            "Best parameters 0.0001: {'model__kernel': 'linear'}\n",
            "Best score F1 0.0001: 0.4982539682539683\n",
            "0.00021544346900318845\n",
            "Fitting 5 folds for each of 1 candidates, totalling 5 fits\n"
          ]
        },
        {
          "output_type": "stream",
          "name": "stderr",
          "text": [
            "/usr/local/lib/python3.10/dist-packages/sklearn/linear_model/_coordinate_descent.py:631: ConvergenceWarning: Objective did not converge. You might want to increase the number of iterations, check the scale of the features or consider increasing regularisation. Duality gap: 5.106e-01, tolerance: 7.662e-03\n",
            "  model = cd_fast.enet_coordinate_descent(\n"
          ]
        },
        {
          "output_type": "stream",
          "name": "stdout",
          "text": [
            "[CV] END ...............................model__kernel=linear; total time=   5.3s\n"
          ]
        },
        {
          "output_type": "stream",
          "name": "stderr",
          "text": [
            "/usr/local/lib/python3.10/dist-packages/sklearn/linear_model/_coordinate_descent.py:631: ConvergenceWarning: Objective did not converge. You might want to increase the number of iterations, check the scale of the features or consider increasing regularisation. Duality gap: 4.292e-01, tolerance: 7.730e-03\n",
            "  model = cd_fast.enet_coordinate_descent(\n"
          ]
        },
        {
          "output_type": "stream",
          "name": "stdout",
          "text": [
            "[CV] END ...............................model__kernel=linear; total time=   6.2s\n"
          ]
        },
        {
          "output_type": "stream",
          "name": "stderr",
          "text": [
            "/usr/local/lib/python3.10/dist-packages/sklearn/linear_model/_coordinate_descent.py:631: ConvergenceWarning: Objective did not converge. You might want to increase the number of iterations, check the scale of the features or consider increasing regularisation. Duality gap: 5.853e-01, tolerance: 7.730e-03\n",
            "  model = cd_fast.enet_coordinate_descent(\n"
          ]
        },
        {
          "output_type": "stream",
          "name": "stdout",
          "text": [
            "[CV] END ...............................model__kernel=linear; total time=   6.0s\n"
          ]
        },
        {
          "output_type": "stream",
          "name": "stderr",
          "text": [
            "/usr/local/lib/python3.10/dist-packages/sklearn/linear_model/_coordinate_descent.py:631: ConvergenceWarning: Objective did not converge. You might want to increase the number of iterations, check the scale of the features or consider increasing regularisation. Duality gap: 6.048e-01, tolerance: 7.730e-03\n",
            "  model = cd_fast.enet_coordinate_descent(\n"
          ]
        },
        {
          "output_type": "stream",
          "name": "stdout",
          "text": [
            "[CV] END ...............................model__kernel=linear; total time=   6.2s\n"
          ]
        },
        {
          "output_type": "stream",
          "name": "stderr",
          "text": [
            "/usr/local/lib/python3.10/dist-packages/sklearn/linear_model/_coordinate_descent.py:631: ConvergenceWarning: Objective did not converge. You might want to increase the number of iterations, check the scale of the features or consider increasing regularisation. Duality gap: 4.243e-01, tolerance: 7.665e-03\n",
            "  model = cd_fast.enet_coordinate_descent(\n"
          ]
        },
        {
          "output_type": "stream",
          "name": "stdout",
          "text": [
            "[CV] END ...............................model__kernel=linear; total time=   6.4s\n"
          ]
        },
        {
          "output_type": "stream",
          "name": "stderr",
          "text": [
            "/usr/local/lib/python3.10/dist-packages/sklearn/linear_model/_coordinate_descent.py:631: ConvergenceWarning: Objective did not converge. You might want to increase the number of iterations, check the scale of the features or consider increasing regularisation. Duality gap: 8.899e-01, tolerance: 9.629e-03\n",
            "  model = cd_fast.enet_coordinate_descent(\n"
          ]
        },
        {
          "output_type": "stream",
          "name": "stdout",
          "text": [
            "Best parameters 0.00021544346900318845: {'model__kernel': 'linear'}\n",
            "Best score F1 0.00021544346900318845: 0.4542758545665523\n",
            "0.00046415888336127773\n",
            "Fitting 5 folds for each of 1 candidates, totalling 5 fits\n"
          ]
        },
        {
          "output_type": "stream",
          "name": "stderr",
          "text": [
            "/usr/local/lib/python3.10/dist-packages/sklearn/linear_model/_coordinate_descent.py:631: ConvergenceWarning: Objective did not converge. You might want to increase the number of iterations, check the scale of the features or consider increasing regularisation. Duality gap: 9.479e-01, tolerance: 7.662e-03\n",
            "  model = cd_fast.enet_coordinate_descent(\n"
          ]
        },
        {
          "output_type": "stream",
          "name": "stdout",
          "text": [
            "[CV] END ...............................model__kernel=linear; total time=   4.9s\n"
          ]
        },
        {
          "output_type": "stream",
          "name": "stderr",
          "text": [
            "/usr/local/lib/python3.10/dist-packages/sklearn/linear_model/_coordinate_descent.py:631: ConvergenceWarning: Objective did not converge. You might want to increase the number of iterations, check the scale of the features or consider increasing regularisation. Duality gap: 7.535e-01, tolerance: 7.730e-03\n",
            "  model = cd_fast.enet_coordinate_descent(\n"
          ]
        },
        {
          "output_type": "stream",
          "name": "stdout",
          "text": [
            "[CV] END ...............................model__kernel=linear; total time=   5.6s\n"
          ]
        },
        {
          "output_type": "stream",
          "name": "stderr",
          "text": [
            "/usr/local/lib/python3.10/dist-packages/sklearn/linear_model/_coordinate_descent.py:631: ConvergenceWarning: Objective did not converge. You might want to increase the number of iterations, check the scale of the features or consider increasing regularisation. Duality gap: 8.682e-01, tolerance: 7.730e-03\n",
            "  model = cd_fast.enet_coordinate_descent(\n"
          ]
        },
        {
          "output_type": "stream",
          "name": "stdout",
          "text": [
            "[CV] END ...............................model__kernel=linear; total time=   5.3s\n"
          ]
        },
        {
          "output_type": "stream",
          "name": "stderr",
          "text": [
            "/usr/local/lib/python3.10/dist-packages/sklearn/linear_model/_coordinate_descent.py:631: ConvergenceWarning: Objective did not converge. You might want to increase the number of iterations, check the scale of the features or consider increasing regularisation. Duality gap: 8.641e-01, tolerance: 7.730e-03\n",
            "  model = cd_fast.enet_coordinate_descent(\n"
          ]
        },
        {
          "output_type": "stream",
          "name": "stdout",
          "text": [
            "[CV] END ...............................model__kernel=linear; total time=   5.5s\n"
          ]
        },
        {
          "output_type": "stream",
          "name": "stderr",
          "text": [
            "/usr/local/lib/python3.10/dist-packages/sklearn/linear_model/_coordinate_descent.py:631: ConvergenceWarning: Objective did not converge. You might want to increase the number of iterations, check the scale of the features or consider increasing regularisation. Duality gap: 9.111e-01, tolerance: 7.665e-03\n",
            "  model = cd_fast.enet_coordinate_descent(\n"
          ]
        },
        {
          "output_type": "stream",
          "name": "stdout",
          "text": [
            "[CV] END ...............................model__kernel=linear; total time=   5.8s\n"
          ]
        },
        {
          "output_type": "stream",
          "name": "stderr",
          "text": [
            "/usr/local/lib/python3.10/dist-packages/sklearn/linear_model/_coordinate_descent.py:631: ConvergenceWarning: Objective did not converge. You might want to increase the number of iterations, check the scale of the features or consider increasing regularisation. Duality gap: 1.151e+00, tolerance: 9.629e-03\n",
            "  model = cd_fast.enet_coordinate_descent(\n"
          ]
        },
        {
          "output_type": "stream",
          "name": "stdout",
          "text": [
            "Best parameters 0.00046415888336127773: {'model__kernel': 'linear'}\n",
            "Best score F1 0.00046415888336127773: 0.4542789839406677\n",
            "0.001\n",
            "Fitting 5 folds for each of 1 candidates, totalling 5 fits\n"
          ]
        },
        {
          "output_type": "stream",
          "name": "stderr",
          "text": [
            "/usr/local/lib/python3.10/dist-packages/sklearn/linear_model/_coordinate_descent.py:631: ConvergenceWarning: Objective did not converge. You might want to increase the number of iterations, check the scale of the features or consider increasing regularisation. Duality gap: 1.729e+00, tolerance: 7.662e-03\n",
            "  model = cd_fast.enet_coordinate_descent(\n"
          ]
        },
        {
          "output_type": "stream",
          "name": "stdout",
          "text": [
            "[CV] END ...............................model__kernel=linear; total time=   6.6s\n"
          ]
        },
        {
          "output_type": "stream",
          "name": "stderr",
          "text": [
            "/usr/local/lib/python3.10/dist-packages/sklearn/linear_model/_coordinate_descent.py:631: ConvergenceWarning: Objective did not converge. You might want to increase the number of iterations, check the scale of the features or consider increasing regularisation. Duality gap: 9.545e-01, tolerance: 7.730e-03\n",
            "  model = cd_fast.enet_coordinate_descent(\n"
          ]
        },
        {
          "output_type": "stream",
          "name": "stdout",
          "text": [
            "[CV] END ...............................model__kernel=linear; total time=   4.2s\n"
          ]
        },
        {
          "output_type": "stream",
          "name": "stderr",
          "text": [
            "/usr/local/lib/python3.10/dist-packages/sklearn/linear_model/_coordinate_descent.py:631: ConvergenceWarning: Objective did not converge. You might want to increase the number of iterations, check the scale of the features or consider increasing regularisation. Duality gap: 1.515e+00, tolerance: 7.730e-03\n",
            "  model = cd_fast.enet_coordinate_descent(\n"
          ]
        },
        {
          "output_type": "stream",
          "name": "stdout",
          "text": [
            "[CV] END ...............................model__kernel=linear; total time=   4.1s\n"
          ]
        },
        {
          "output_type": "stream",
          "name": "stderr",
          "text": [
            "/usr/local/lib/python3.10/dist-packages/sklearn/linear_model/_coordinate_descent.py:631: ConvergenceWarning: Objective did not converge. You might want to increase the number of iterations, check the scale of the features or consider increasing regularisation. Duality gap: 1.649e+00, tolerance: 7.730e-03\n",
            "  model = cd_fast.enet_coordinate_descent(\n"
          ]
        },
        {
          "output_type": "stream",
          "name": "stdout",
          "text": [
            "[CV] END ...............................model__kernel=linear; total time=   5.0s\n"
          ]
        },
        {
          "output_type": "stream",
          "name": "stderr",
          "text": [
            "/usr/local/lib/python3.10/dist-packages/sklearn/linear_model/_coordinate_descent.py:631: ConvergenceWarning: Objective did not converge. You might want to increase the number of iterations, check the scale of the features or consider increasing regularisation. Duality gap: 1.394e+00, tolerance: 7.665e-03\n",
            "  model = cd_fast.enet_coordinate_descent(\n"
          ]
        },
        {
          "output_type": "stream",
          "name": "stdout",
          "text": [
            "[CV] END ...............................model__kernel=linear; total time=   4.8s\n"
          ]
        },
        {
          "output_type": "stream",
          "name": "stderr",
          "text": [
            "/usr/local/lib/python3.10/dist-packages/sklearn/linear_model/_coordinate_descent.py:631: ConvergenceWarning: Objective did not converge. You might want to increase the number of iterations, check the scale of the features or consider increasing regularisation. Duality gap: 1.895e+00, tolerance: 9.629e-03\n",
            "  model = cd_fast.enet_coordinate_descent(\n"
          ]
        },
        {
          "output_type": "stream",
          "name": "stdout",
          "text": [
            "Best parameters 0.001: {'model__kernel': 'linear'}\n",
            "Best score F1 0.001: 0.4680449280449281\n",
            "0.002154434690031882\n",
            "Fitting 5 folds for each of 1 candidates, totalling 5 fits\n"
          ]
        },
        {
          "output_type": "stream",
          "name": "stderr",
          "text": [
            "/usr/local/lib/python3.10/dist-packages/sklearn/linear_model/_coordinate_descent.py:631: ConvergenceWarning: Objective did not converge. You might want to increase the number of iterations, check the scale of the features or consider increasing regularisation. Duality gap: 2.918e+00, tolerance: 7.662e-03\n",
            "  model = cd_fast.enet_coordinate_descent(\n"
          ]
        },
        {
          "output_type": "stream",
          "name": "stdout",
          "text": [
            "[CV] END ...............................model__kernel=linear; total time=   5.2s\n"
          ]
        },
        {
          "output_type": "stream",
          "name": "stderr",
          "text": [
            "/usr/local/lib/python3.10/dist-packages/sklearn/linear_model/_coordinate_descent.py:631: ConvergenceWarning: Objective did not converge. You might want to increase the number of iterations, check the scale of the features or consider increasing regularisation. Duality gap: 1.815e+00, tolerance: 7.730e-03\n",
            "  model = cd_fast.enet_coordinate_descent(\n"
          ]
        },
        {
          "output_type": "stream",
          "name": "stdout",
          "text": [
            "[CV] END ...............................model__kernel=linear; total time=   5.0s\n"
          ]
        },
        {
          "output_type": "stream",
          "name": "stderr",
          "text": [
            "/usr/local/lib/python3.10/dist-packages/sklearn/linear_model/_coordinate_descent.py:631: ConvergenceWarning: Objective did not converge. You might want to increase the number of iterations, check the scale of the features or consider increasing regularisation. Duality gap: 2.628e+00, tolerance: 7.730e-03\n",
            "  model = cd_fast.enet_coordinate_descent(\n"
          ]
        },
        {
          "output_type": "stream",
          "name": "stdout",
          "text": [
            "[CV] END ...............................model__kernel=linear; total time=   6.4s\n"
          ]
        },
        {
          "output_type": "stream",
          "name": "stderr",
          "text": [
            "/usr/local/lib/python3.10/dist-packages/sklearn/linear_model/_coordinate_descent.py:631: ConvergenceWarning: Objective did not converge. You might want to increase the number of iterations, check the scale of the features or consider increasing regularisation. Duality gap: 2.636e+00, tolerance: 7.730e-03\n",
            "  model = cd_fast.enet_coordinate_descent(\n"
          ]
        },
        {
          "output_type": "stream",
          "name": "stdout",
          "text": [
            "[CV] END ...............................model__kernel=linear; total time=   5.3s\n"
          ]
        },
        {
          "output_type": "stream",
          "name": "stderr",
          "text": [
            "/usr/local/lib/python3.10/dist-packages/sklearn/linear_model/_coordinate_descent.py:631: ConvergenceWarning: Objective did not converge. You might want to increase the number of iterations, check the scale of the features or consider increasing regularisation. Duality gap: 2.071e+00, tolerance: 7.665e-03\n",
            "  model = cd_fast.enet_coordinate_descent(\n"
          ]
        },
        {
          "output_type": "stream",
          "name": "stdout",
          "text": [
            "[CV] END ...............................model__kernel=linear; total time=   4.9s\n"
          ]
        },
        {
          "output_type": "stream",
          "name": "stderr",
          "text": [
            "/usr/local/lib/python3.10/dist-packages/sklearn/linear_model/_coordinate_descent.py:631: ConvergenceWarning: Objective did not converge. You might want to increase the number of iterations, check the scale of the features or consider increasing regularisation. Duality gap: 3.556e+00, tolerance: 9.629e-03\n",
            "  model = cd_fast.enet_coordinate_descent(\n"
          ]
        },
        {
          "output_type": "stream",
          "name": "stdout",
          "text": [
            "Best parameters 0.002154434690031882: {'model__kernel': 'linear'}\n",
            "Best score F1 0.002154434690031882: 0.46204582789948645\n",
            "0.004641588833612777\n",
            "Fitting 5 folds for each of 1 candidates, totalling 5 fits\n"
          ]
        },
        {
          "output_type": "stream",
          "name": "stderr",
          "text": [
            "/usr/local/lib/python3.10/dist-packages/sklearn/linear_model/_coordinate_descent.py:631: ConvergenceWarning: Objective did not converge. You might want to increase the number of iterations, check the scale of the features or consider increasing regularisation. Duality gap: 3.516e+00, tolerance: 7.662e-03\n",
            "  model = cd_fast.enet_coordinate_descent(\n"
          ]
        },
        {
          "output_type": "stream",
          "name": "stdout",
          "text": [
            "[CV] END ...............................model__kernel=linear; total time=   5.2s\n"
          ]
        },
        {
          "output_type": "stream",
          "name": "stderr",
          "text": [
            "/usr/local/lib/python3.10/dist-packages/sklearn/linear_model/_coordinate_descent.py:631: ConvergenceWarning: Objective did not converge. You might want to increase the number of iterations, check the scale of the features or consider increasing regularisation. Duality gap: 2.776e+00, tolerance: 7.730e-03\n",
            "  model = cd_fast.enet_coordinate_descent(\n"
          ]
        },
        {
          "output_type": "stream",
          "name": "stdout",
          "text": [
            "[CV] END ...............................model__kernel=linear; total time=   5.2s\n"
          ]
        },
        {
          "output_type": "stream",
          "name": "stderr",
          "text": [
            "/usr/local/lib/python3.10/dist-packages/sklearn/linear_model/_coordinate_descent.py:631: ConvergenceWarning: Objective did not converge. You might want to increase the number of iterations, check the scale of the features or consider increasing regularisation. Duality gap: 3.495e+00, tolerance: 7.730e-03\n",
            "  model = cd_fast.enet_coordinate_descent(\n"
          ]
        },
        {
          "output_type": "stream",
          "name": "stdout",
          "text": [
            "[CV] END ...............................model__kernel=linear; total time=   5.6s\n"
          ]
        },
        {
          "output_type": "stream",
          "name": "stderr",
          "text": [
            "/usr/local/lib/python3.10/dist-packages/sklearn/linear_model/_coordinate_descent.py:631: ConvergenceWarning: Objective did not converge. You might want to increase the number of iterations, check the scale of the features or consider increasing regularisation. Duality gap: 3.320e+00, tolerance: 7.730e-03\n",
            "  model = cd_fast.enet_coordinate_descent(\n"
          ]
        },
        {
          "output_type": "stream",
          "name": "stdout",
          "text": [
            "[CV] END ...............................model__kernel=linear; total time=   4.1s\n"
          ]
        },
        {
          "output_type": "stream",
          "name": "stderr",
          "text": [
            "/usr/local/lib/python3.10/dist-packages/sklearn/linear_model/_coordinate_descent.py:631: ConvergenceWarning: Objective did not converge. You might want to increase the number of iterations, check the scale of the features or consider increasing regularisation. Duality gap: 1.837e+00, tolerance: 7.665e-03\n",
            "  model = cd_fast.enet_coordinate_descent(\n"
          ]
        },
        {
          "output_type": "stream",
          "name": "stdout",
          "text": [
            "[CV] END ...............................model__kernel=linear; total time=   5.0s\n"
          ]
        },
        {
          "output_type": "stream",
          "name": "stderr",
          "text": [
            "/usr/local/lib/python3.10/dist-packages/sklearn/linear_model/_coordinate_descent.py:631: ConvergenceWarning: Objective did not converge. You might want to increase the number of iterations, check the scale of the features or consider increasing regularisation. Duality gap: 4.358e+00, tolerance: 9.629e-03\n",
            "  model = cd_fast.enet_coordinate_descent(\n"
          ]
        },
        {
          "output_type": "stream",
          "name": "stdout",
          "text": [
            "Best parameters 0.004641588833612777: {'model__kernel': 'linear'}\n",
            "Best score F1 0.004641588833612777: 0.49291381668946643\n",
            "0.01\n",
            "Fitting 5 folds for each of 1 candidates, totalling 5 fits\n"
          ]
        },
        {
          "output_type": "stream",
          "name": "stderr",
          "text": [
            "/usr/local/lib/python3.10/dist-packages/sklearn/linear_model/_coordinate_descent.py:631: ConvergenceWarning: Objective did not converge. You might want to increase the number of iterations, check the scale of the features or consider increasing regularisation. Duality gap: 2.631e+00, tolerance: 7.662e-03\n",
            "  model = cd_fast.enet_coordinate_descent(\n"
          ]
        },
        {
          "output_type": "stream",
          "name": "stdout",
          "text": [
            "[CV] END ...............................model__kernel=linear; total time=   4.5s\n"
          ]
        },
        {
          "output_type": "stream",
          "name": "stderr",
          "text": [
            "/usr/local/lib/python3.10/dist-packages/sklearn/linear_model/_coordinate_descent.py:631: ConvergenceWarning: Objective did not converge. You might want to increase the number of iterations, check the scale of the features or consider increasing regularisation. Duality gap: 8.986e-01, tolerance: 7.730e-03\n",
            "  model = cd_fast.enet_coordinate_descent(\n"
          ]
        },
        {
          "output_type": "stream",
          "name": "stdout",
          "text": [
            "[CV] END ...............................model__kernel=linear; total time=   5.1s\n"
          ]
        },
        {
          "output_type": "stream",
          "name": "stderr",
          "text": [
            "/usr/local/lib/python3.10/dist-packages/sklearn/linear_model/_coordinate_descent.py:631: ConvergenceWarning: Objective did not converge. You might want to increase the number of iterations, check the scale of the features or consider increasing regularisation. Duality gap: 2.201e+00, tolerance: 7.730e-03\n",
            "  model = cd_fast.enet_coordinate_descent(\n"
          ]
        },
        {
          "output_type": "stream",
          "name": "stdout",
          "text": [
            "[CV] END ...............................model__kernel=linear; total time=   4.2s\n"
          ]
        },
        {
          "output_type": "stream",
          "name": "stderr",
          "text": [
            "/usr/local/lib/python3.10/dist-packages/sklearn/linear_model/_coordinate_descent.py:631: ConvergenceWarning: Objective did not converge. You might want to increase the number of iterations, check the scale of the features or consider increasing regularisation. Duality gap: 1.947e+00, tolerance: 7.730e-03\n",
            "  model = cd_fast.enet_coordinate_descent(\n"
          ]
        },
        {
          "output_type": "stream",
          "name": "stdout",
          "text": [
            "[CV] END ...............................model__kernel=linear; total time=   4.1s\n"
          ]
        },
        {
          "output_type": "stream",
          "name": "stderr",
          "text": [
            "/usr/local/lib/python3.10/dist-packages/sklearn/linear_model/_coordinate_descent.py:631: ConvergenceWarning: Objective did not converge. You might want to increase the number of iterations, check the scale of the features or consider increasing regularisation. Duality gap: 9.715e-01, tolerance: 7.665e-03\n",
            "  model = cd_fast.enet_coordinate_descent(\n"
          ]
        },
        {
          "output_type": "stream",
          "name": "stdout",
          "text": [
            "[CV] END ...............................model__kernel=linear; total time=   4.8s\n"
          ]
        },
        {
          "output_type": "stream",
          "name": "stderr",
          "text": [
            "/usr/local/lib/python3.10/dist-packages/sklearn/linear_model/_coordinate_descent.py:631: ConvergenceWarning: Objective did not converge. You might want to increase the number of iterations, check the scale of the features or consider increasing regularisation. Duality gap: 1.903e+00, tolerance: 9.629e-03\n",
            "  model = cd_fast.enet_coordinate_descent(\n"
          ]
        },
        {
          "output_type": "stream",
          "name": "stdout",
          "text": [
            "Best parameters 0.01: {'model__kernel': 'linear'}\n",
            "Best score F1 0.01: 0.46409044992362336\n",
            "0.021544346900318822\n",
            "Fitting 5 folds for each of 1 candidates, totalling 5 fits\n"
          ]
        },
        {
          "output_type": "stream",
          "name": "stderr",
          "text": [
            "/usr/local/lib/python3.10/dist-packages/sklearn/linear_model/_coordinate_descent.py:631: ConvergenceWarning: Objective did not converge. You might want to increase the number of iterations, check the scale of the features or consider increasing regularisation. Duality gap: 4.345e-02, tolerance: 7.662e-03\n",
            "  model = cd_fast.enet_coordinate_descent(\n"
          ]
        },
        {
          "output_type": "stream",
          "name": "stdout",
          "text": [
            "[CV] END ...............................model__kernel=linear; total time=   7.1s\n",
            "[CV] END ...............................model__kernel=linear; total time=   3.6s\n"
          ]
        },
        {
          "output_type": "stream",
          "name": "stderr",
          "text": [
            "/usr/local/lib/python3.10/dist-packages/sklearn/linear_model/_coordinate_descent.py:631: ConvergenceWarning: Objective did not converge. You might want to increase the number of iterations, check the scale of the features or consider increasing regularisation. Duality gap: 1.100e-02, tolerance: 7.730e-03\n",
            "  model = cd_fast.enet_coordinate_descent(\n"
          ]
        },
        {
          "output_type": "stream",
          "name": "stdout",
          "text": [
            "[CV] END ...............................model__kernel=linear; total time=   7.7s\n",
            "[CV] END ...............................model__kernel=linear; total time=   4.7s\n",
            "[CV] END ...............................model__kernel=linear; total time=   3.7s\n",
            "Best parameters 0.021544346900318822: {'model__kernel': 'linear'}\n",
            "Best score F1 0.021544346900318822: 0.43002023330752126\n",
            "0.046415888336127774\n",
            "Fitting 5 folds for each of 1 candidates, totalling 5 fits\n",
            "[CV] END ...............................model__kernel=linear; total time=   1.3s\n",
            "[CV] END ...............................model__kernel=linear; total time=   1.2s\n",
            "[CV] END ...............................model__kernel=linear; total time=   1.1s\n",
            "[CV] END ...............................model__kernel=linear; total time=   2.9s\n",
            "[CV] END ...............................model__kernel=linear; total time=   1.9s\n",
            "Best parameters 0.046415888336127774: {'model__kernel': 'linear'}\n",
            "Best score F1 0.046415888336127774: 0.45887177914202626\n",
            "0.1\n",
            "Fitting 5 folds for each of 1 candidates, totalling 5 fits\n",
            "[CV] END ...............................model__kernel=linear; total time=   1.9s\n",
            "[CV] END ...............................model__kernel=linear; total time=   0.6s\n",
            "[CV] END ...............................model__kernel=linear; total time=   2.0s\n",
            "[CV] END ...............................model__kernel=linear; total time=   2.6s\n",
            "[CV] END ...............................model__kernel=linear; total time=   0.9s\n",
            "Best parameters 0.1: {'model__kernel': 'linear'}\n",
            "Best score F1 0.1: 0.4155189112016743\n"
          ]
        }
      ]
    },
    {
      "cell_type": "code",
      "source": [
        "X_train"
      ],
      "metadata": {
        "id": "sPtksnuqVEv1",
        "outputId": "24a3fa9d-76b1-4d32-b11e-4d58743a83e1",
        "colab": {
          "base_uri": "https://localhost:8080/",
          "height": 443
        }
      },
      "execution_count": 72,
      "outputs": [
        {
          "output_type": "execute_result",
          "data": {
            "text/plain": [
              "          0_0       0_1       0_2       0_3       0_4       0_5       0_6  \\\n",
              "6   -0.012800 -0.165629 -0.013054 -0.340575 -0.417120 -0.418734 -0.324668   \n",
              "684  0.953717  0.730451  1.910663  1.858430  1.445040 -0.055822 -0.098870   \n",
              "622 -0.025631 -0.297686 -0.334699 -0.466399 -0.505214 -0.366496  0.245330   \n",
              "590 -0.022936  0.033056  0.290655  2.372261  0.850756  0.375353 -0.292049   \n",
              "522 -0.019067 -0.094233  0.258240  0.805098  1.268429  0.394664  0.184864   \n",
              "..        ...       ...       ...       ...       ...       ...       ...   \n",
              "560 -0.025686 -0.234549 -0.457720 -0.373090 -0.063774 -0.248281 -0.353216   \n",
              "440 -0.016154 -0.333446 -0.466227 -0.547197 -0.394129 -0.336825  0.825964   \n",
              "618  1.720443  0.858627  0.529744 -0.449623  1.319836  3.821664 -0.004350   \n",
              "527  3.396114  0.777209  0.025587  0.786000  1.785686  3.615338  0.147836   \n",
              "549 -0.024471 -0.286119 -0.279448 -0.116127 -0.184332 -0.275602 -0.327102   \n",
              "\n",
              "          0_7        0_8       0_9  ...    11_740    11_741    11_742  \\\n",
              "6    1.215479   0.000000 -0.105863  ...  2.449464  2.809188  1.735012   \n",
              "684  0.359501   0.376431 -0.043094  ...  3.324052  3.058947  2.493874   \n",
              "622 -0.565734  -0.375847 -0.377079  ...  0.044908 -0.377882  0.072628   \n",
              "590  0.154239   0.609592  2.373446  ...  1.004229  0.854303 -0.175943   \n",
              "522  1.817556  16.883853  7.363951  ...  0.091370  0.345281 -0.566798   \n",
              "..        ...        ...       ...  ...       ...       ...       ...   \n",
              "560  1.633352   0.141718  0.192647  ...  0.613016 -0.555094  0.562981   \n",
              "440 -0.423419  -0.355888 -0.163178  ...  1.410885  1.981650  1.472391   \n",
              "618 -0.285383  -0.049398  2.735960  ...  5.378927  5.025873  5.202990   \n",
              "527  0.030133  -0.177108  0.956484  ... -0.321474 -0.129013  0.256587   \n",
              "549  1.713099  -0.036296 -0.611103  ...  0.695156 -0.164622 -0.704991   \n",
              "\n",
              "       11_743    11_744    11_745    11_746    11_747    11_748    11_749  \n",
              "6    2.557577  2.493190  2.606693  2.112876  2.276969  2.732411  3.100418  \n",
              "684  2.586568  2.321302  3.221466  2.050323  2.301678  2.937569  2.773760  \n",
              "622  0.738022 -0.292520 -0.157901  0.393040  0.020343 -0.631018  0.618798  \n",
              "590 -0.139730 -0.438915  1.173350  0.203233  0.402440  0.136711 -0.007278  \n",
              "522  0.028844 -0.210005 -0.239529 -0.560067  0.582444 -0.358929  0.502358  \n",
              "..        ...       ...       ...       ...       ...       ...       ...  \n",
              "560 -0.141172  0.149962 -0.262738 -0.476865 -0.132273  0.748827  0.318449  \n",
              "440  1.598904  0.773551  1.680955  1.158554  1.294888  1.089855  1.590634  \n",
              "618  6.488071  4.757885  4.772503  5.619000  6.216994  4.698148  5.543528  \n",
              "527 -0.014116 -0.228515  0.383923 -0.087911 -0.072803  0.435387 -0.228934  \n",
              "549  0.347686 -0.356529 -0.166588 -0.056229 -0.476724  0.030805  0.378051  \n",
              "\n",
              "[661 rows x 9000 columns]"
            ],
            "text/html": [
              "\n",
              "  <div id=\"df-2714b45c-f26c-4f72-8943-7f767eb57679\" class=\"colab-df-container\">\n",
              "    <div>\n",
              "<style scoped>\n",
              "    .dataframe tbody tr th:only-of-type {\n",
              "        vertical-align: middle;\n",
              "    }\n",
              "\n",
              "    .dataframe tbody tr th {\n",
              "        vertical-align: top;\n",
              "    }\n",
              "\n",
              "    .dataframe thead th {\n",
              "        text-align: right;\n",
              "    }\n",
              "</style>\n",
              "<table border=\"1\" class=\"dataframe\">\n",
              "  <thead>\n",
              "    <tr style=\"text-align: right;\">\n",
              "      <th></th>\n",
              "      <th>0_0</th>\n",
              "      <th>0_1</th>\n",
              "      <th>0_2</th>\n",
              "      <th>0_3</th>\n",
              "      <th>0_4</th>\n",
              "      <th>0_5</th>\n",
              "      <th>0_6</th>\n",
              "      <th>0_7</th>\n",
              "      <th>0_8</th>\n",
              "      <th>0_9</th>\n",
              "      <th>...</th>\n",
              "      <th>11_740</th>\n",
              "      <th>11_741</th>\n",
              "      <th>11_742</th>\n",
              "      <th>11_743</th>\n",
              "      <th>11_744</th>\n",
              "      <th>11_745</th>\n",
              "      <th>11_746</th>\n",
              "      <th>11_747</th>\n",
              "      <th>11_748</th>\n",
              "      <th>11_749</th>\n",
              "    </tr>\n",
              "  </thead>\n",
              "  <tbody>\n",
              "    <tr>\n",
              "      <th>6</th>\n",
              "      <td>-0.012800</td>\n",
              "      <td>-0.165629</td>\n",
              "      <td>-0.013054</td>\n",
              "      <td>-0.340575</td>\n",
              "      <td>-0.417120</td>\n",
              "      <td>-0.418734</td>\n",
              "      <td>-0.324668</td>\n",
              "      <td>1.215479</td>\n",
              "      <td>0.000000</td>\n",
              "      <td>-0.105863</td>\n",
              "      <td>...</td>\n",
              "      <td>2.449464</td>\n",
              "      <td>2.809188</td>\n",
              "      <td>1.735012</td>\n",
              "      <td>2.557577</td>\n",
              "      <td>2.493190</td>\n",
              "      <td>2.606693</td>\n",
              "      <td>2.112876</td>\n",
              "      <td>2.276969</td>\n",
              "      <td>2.732411</td>\n",
              "      <td>3.100418</td>\n",
              "    </tr>\n",
              "    <tr>\n",
              "      <th>684</th>\n",
              "      <td>0.953717</td>\n",
              "      <td>0.730451</td>\n",
              "      <td>1.910663</td>\n",
              "      <td>1.858430</td>\n",
              "      <td>1.445040</td>\n",
              "      <td>-0.055822</td>\n",
              "      <td>-0.098870</td>\n",
              "      <td>0.359501</td>\n",
              "      <td>0.376431</td>\n",
              "      <td>-0.043094</td>\n",
              "      <td>...</td>\n",
              "      <td>3.324052</td>\n",
              "      <td>3.058947</td>\n",
              "      <td>2.493874</td>\n",
              "      <td>2.586568</td>\n",
              "      <td>2.321302</td>\n",
              "      <td>3.221466</td>\n",
              "      <td>2.050323</td>\n",
              "      <td>2.301678</td>\n",
              "      <td>2.937569</td>\n",
              "      <td>2.773760</td>\n",
              "    </tr>\n",
              "    <tr>\n",
              "      <th>622</th>\n",
              "      <td>-0.025631</td>\n",
              "      <td>-0.297686</td>\n",
              "      <td>-0.334699</td>\n",
              "      <td>-0.466399</td>\n",
              "      <td>-0.505214</td>\n",
              "      <td>-0.366496</td>\n",
              "      <td>0.245330</td>\n",
              "      <td>-0.565734</td>\n",
              "      <td>-0.375847</td>\n",
              "      <td>-0.377079</td>\n",
              "      <td>...</td>\n",
              "      <td>0.044908</td>\n",
              "      <td>-0.377882</td>\n",
              "      <td>0.072628</td>\n",
              "      <td>0.738022</td>\n",
              "      <td>-0.292520</td>\n",
              "      <td>-0.157901</td>\n",
              "      <td>0.393040</td>\n",
              "      <td>0.020343</td>\n",
              "      <td>-0.631018</td>\n",
              "      <td>0.618798</td>\n",
              "    </tr>\n",
              "    <tr>\n",
              "      <th>590</th>\n",
              "      <td>-0.022936</td>\n",
              "      <td>0.033056</td>\n",
              "      <td>0.290655</td>\n",
              "      <td>2.372261</td>\n",
              "      <td>0.850756</td>\n",
              "      <td>0.375353</td>\n",
              "      <td>-0.292049</td>\n",
              "      <td>0.154239</td>\n",
              "      <td>0.609592</td>\n",
              "      <td>2.373446</td>\n",
              "      <td>...</td>\n",
              "      <td>1.004229</td>\n",
              "      <td>0.854303</td>\n",
              "      <td>-0.175943</td>\n",
              "      <td>-0.139730</td>\n",
              "      <td>-0.438915</td>\n",
              "      <td>1.173350</td>\n",
              "      <td>0.203233</td>\n",
              "      <td>0.402440</td>\n",
              "      <td>0.136711</td>\n",
              "      <td>-0.007278</td>\n",
              "    </tr>\n",
              "    <tr>\n",
              "      <th>522</th>\n",
              "      <td>-0.019067</td>\n",
              "      <td>-0.094233</td>\n",
              "      <td>0.258240</td>\n",
              "      <td>0.805098</td>\n",
              "      <td>1.268429</td>\n",
              "      <td>0.394664</td>\n",
              "      <td>0.184864</td>\n",
              "      <td>1.817556</td>\n",
              "      <td>16.883853</td>\n",
              "      <td>7.363951</td>\n",
              "      <td>...</td>\n",
              "      <td>0.091370</td>\n",
              "      <td>0.345281</td>\n",
              "      <td>-0.566798</td>\n",
              "      <td>0.028844</td>\n",
              "      <td>-0.210005</td>\n",
              "      <td>-0.239529</td>\n",
              "      <td>-0.560067</td>\n",
              "      <td>0.582444</td>\n",
              "      <td>-0.358929</td>\n",
              "      <td>0.502358</td>\n",
              "    </tr>\n",
              "    <tr>\n",
              "      <th>...</th>\n",
              "      <td>...</td>\n",
              "      <td>...</td>\n",
              "      <td>...</td>\n",
              "      <td>...</td>\n",
              "      <td>...</td>\n",
              "      <td>...</td>\n",
              "      <td>...</td>\n",
              "      <td>...</td>\n",
              "      <td>...</td>\n",
              "      <td>...</td>\n",
              "      <td>...</td>\n",
              "      <td>...</td>\n",
              "      <td>...</td>\n",
              "      <td>...</td>\n",
              "      <td>...</td>\n",
              "      <td>...</td>\n",
              "      <td>...</td>\n",
              "      <td>...</td>\n",
              "      <td>...</td>\n",
              "      <td>...</td>\n",
              "      <td>...</td>\n",
              "    </tr>\n",
              "    <tr>\n",
              "      <th>560</th>\n",
              "      <td>-0.025686</td>\n",
              "      <td>-0.234549</td>\n",
              "      <td>-0.457720</td>\n",
              "      <td>-0.373090</td>\n",
              "      <td>-0.063774</td>\n",
              "      <td>-0.248281</td>\n",
              "      <td>-0.353216</td>\n",
              "      <td>1.633352</td>\n",
              "      <td>0.141718</td>\n",
              "      <td>0.192647</td>\n",
              "      <td>...</td>\n",
              "      <td>0.613016</td>\n",
              "      <td>-0.555094</td>\n",
              "      <td>0.562981</td>\n",
              "      <td>-0.141172</td>\n",
              "      <td>0.149962</td>\n",
              "      <td>-0.262738</td>\n",
              "      <td>-0.476865</td>\n",
              "      <td>-0.132273</td>\n",
              "      <td>0.748827</td>\n",
              "      <td>0.318449</td>\n",
              "    </tr>\n",
              "    <tr>\n",
              "      <th>440</th>\n",
              "      <td>-0.016154</td>\n",
              "      <td>-0.333446</td>\n",
              "      <td>-0.466227</td>\n",
              "      <td>-0.547197</td>\n",
              "      <td>-0.394129</td>\n",
              "      <td>-0.336825</td>\n",
              "      <td>0.825964</td>\n",
              "      <td>-0.423419</td>\n",
              "      <td>-0.355888</td>\n",
              "      <td>-0.163178</td>\n",
              "      <td>...</td>\n",
              "      <td>1.410885</td>\n",
              "      <td>1.981650</td>\n",
              "      <td>1.472391</td>\n",
              "      <td>1.598904</td>\n",
              "      <td>0.773551</td>\n",
              "      <td>1.680955</td>\n",
              "      <td>1.158554</td>\n",
              "      <td>1.294888</td>\n",
              "      <td>1.089855</td>\n",
              "      <td>1.590634</td>\n",
              "    </tr>\n",
              "    <tr>\n",
              "      <th>618</th>\n",
              "      <td>1.720443</td>\n",
              "      <td>0.858627</td>\n",
              "      <td>0.529744</td>\n",
              "      <td>-0.449623</td>\n",
              "      <td>1.319836</td>\n",
              "      <td>3.821664</td>\n",
              "      <td>-0.004350</td>\n",
              "      <td>-0.285383</td>\n",
              "      <td>-0.049398</td>\n",
              "      <td>2.735960</td>\n",
              "      <td>...</td>\n",
              "      <td>5.378927</td>\n",
              "      <td>5.025873</td>\n",
              "      <td>5.202990</td>\n",
              "      <td>6.488071</td>\n",
              "      <td>4.757885</td>\n",
              "      <td>4.772503</td>\n",
              "      <td>5.619000</td>\n",
              "      <td>6.216994</td>\n",
              "      <td>4.698148</td>\n",
              "      <td>5.543528</td>\n",
              "    </tr>\n",
              "    <tr>\n",
              "      <th>527</th>\n",
              "      <td>3.396114</td>\n",
              "      <td>0.777209</td>\n",
              "      <td>0.025587</td>\n",
              "      <td>0.786000</td>\n",
              "      <td>1.785686</td>\n",
              "      <td>3.615338</td>\n",
              "      <td>0.147836</td>\n",
              "      <td>0.030133</td>\n",
              "      <td>-0.177108</td>\n",
              "      <td>0.956484</td>\n",
              "      <td>...</td>\n",
              "      <td>-0.321474</td>\n",
              "      <td>-0.129013</td>\n",
              "      <td>0.256587</td>\n",
              "      <td>-0.014116</td>\n",
              "      <td>-0.228515</td>\n",
              "      <td>0.383923</td>\n",
              "      <td>-0.087911</td>\n",
              "      <td>-0.072803</td>\n",
              "      <td>0.435387</td>\n",
              "      <td>-0.228934</td>\n",
              "    </tr>\n",
              "    <tr>\n",
              "      <th>549</th>\n",
              "      <td>-0.024471</td>\n",
              "      <td>-0.286119</td>\n",
              "      <td>-0.279448</td>\n",
              "      <td>-0.116127</td>\n",
              "      <td>-0.184332</td>\n",
              "      <td>-0.275602</td>\n",
              "      <td>-0.327102</td>\n",
              "      <td>1.713099</td>\n",
              "      <td>-0.036296</td>\n",
              "      <td>-0.611103</td>\n",
              "      <td>...</td>\n",
              "      <td>0.695156</td>\n",
              "      <td>-0.164622</td>\n",
              "      <td>-0.704991</td>\n",
              "      <td>0.347686</td>\n",
              "      <td>-0.356529</td>\n",
              "      <td>-0.166588</td>\n",
              "      <td>-0.056229</td>\n",
              "      <td>-0.476724</td>\n",
              "      <td>0.030805</td>\n",
              "      <td>0.378051</td>\n",
              "    </tr>\n",
              "  </tbody>\n",
              "</table>\n",
              "<p>661 rows × 9000 columns</p>\n",
              "</div>\n",
              "    <div class=\"colab-df-buttons\">\n",
              "\n",
              "  <div class=\"colab-df-container\">\n",
              "    <button class=\"colab-df-convert\" onclick=\"convertToInteractive('df-2714b45c-f26c-4f72-8943-7f767eb57679')\"\n",
              "            title=\"Convert this dataframe to an interactive table.\"\n",
              "            style=\"display:none;\">\n",
              "\n",
              "  <svg xmlns=\"http://www.w3.org/2000/svg\" height=\"24px\" viewBox=\"0 -960 960 960\">\n",
              "    <path d=\"M120-120v-720h720v720H120Zm60-500h600v-160H180v160Zm220 220h160v-160H400v160Zm0 220h160v-160H400v160ZM180-400h160v-160H180v160Zm440 0h160v-160H620v160ZM180-180h160v-160H180v160Zm440 0h160v-160H620v160Z\"/>\n",
              "  </svg>\n",
              "    </button>\n",
              "\n",
              "  <style>\n",
              "    .colab-df-container {\n",
              "      display:flex;\n",
              "      gap: 12px;\n",
              "    }\n",
              "\n",
              "    .colab-df-convert {\n",
              "      background-color: #E8F0FE;\n",
              "      border: none;\n",
              "      border-radius: 50%;\n",
              "      cursor: pointer;\n",
              "      display: none;\n",
              "      fill: #1967D2;\n",
              "      height: 32px;\n",
              "      padding: 0 0 0 0;\n",
              "      width: 32px;\n",
              "    }\n",
              "\n",
              "    .colab-df-convert:hover {\n",
              "      background-color: #E2EBFA;\n",
              "      box-shadow: 0px 1px 2px rgba(60, 64, 67, 0.3), 0px 1px 3px 1px rgba(60, 64, 67, 0.15);\n",
              "      fill: #174EA6;\n",
              "    }\n",
              "\n",
              "    .colab-df-buttons div {\n",
              "      margin-bottom: 4px;\n",
              "    }\n",
              "\n",
              "    [theme=dark] .colab-df-convert {\n",
              "      background-color: #3B4455;\n",
              "      fill: #D2E3FC;\n",
              "    }\n",
              "\n",
              "    [theme=dark] .colab-df-convert:hover {\n",
              "      background-color: #434B5C;\n",
              "      box-shadow: 0px 1px 3px 1px rgba(0, 0, 0, 0.15);\n",
              "      filter: drop-shadow(0px 1px 2px rgba(0, 0, 0, 0.3));\n",
              "      fill: #FFFFFF;\n",
              "    }\n",
              "  </style>\n",
              "\n",
              "    <script>\n",
              "      const buttonEl =\n",
              "        document.querySelector('#df-2714b45c-f26c-4f72-8943-7f767eb57679 button.colab-df-convert');\n",
              "      buttonEl.style.display =\n",
              "        google.colab.kernel.accessAllowed ? 'block' : 'none';\n",
              "\n",
              "      async function convertToInteractive(key) {\n",
              "        const element = document.querySelector('#df-2714b45c-f26c-4f72-8943-7f767eb57679');\n",
              "        const dataTable =\n",
              "          await google.colab.kernel.invokeFunction('convertToInteractive',\n",
              "                                                    [key], {});\n",
              "        if (!dataTable) return;\n",
              "\n",
              "        const docLinkHtml = 'Like what you see? Visit the ' +\n",
              "          '<a target=\"_blank\" href=https://colab.research.google.com/notebooks/data_table.ipynb>data table notebook</a>'\n",
              "          + ' to learn more about interactive tables.';\n",
              "        element.innerHTML = '';\n",
              "        dataTable['output_type'] = 'display_data';\n",
              "        await google.colab.output.renderOutput(dataTable, element);\n",
              "        const docLink = document.createElement('div');\n",
              "        docLink.innerHTML = docLinkHtml;\n",
              "        element.appendChild(docLink);\n",
              "      }\n",
              "    </script>\n",
              "  </div>\n",
              "\n",
              "\n",
              "<div id=\"df-e2c760b3-2624-4610-8b5e-29bb3e976348\">\n",
              "  <button class=\"colab-df-quickchart\" onclick=\"quickchart('df-e2c760b3-2624-4610-8b5e-29bb3e976348')\"\n",
              "            title=\"Suggest charts\"\n",
              "            style=\"display:none;\">\n",
              "\n",
              "<svg xmlns=\"http://www.w3.org/2000/svg\" height=\"24px\"viewBox=\"0 0 24 24\"\n",
              "     width=\"24px\">\n",
              "    <g>\n",
              "        <path d=\"M19 3H5c-1.1 0-2 .9-2 2v14c0 1.1.9 2 2 2h14c1.1 0 2-.9 2-2V5c0-1.1-.9-2-2-2zM9 17H7v-7h2v7zm4 0h-2V7h2v10zm4 0h-2v-4h2v4z\"/>\n",
              "    </g>\n",
              "</svg>\n",
              "  </button>\n",
              "\n",
              "<style>\n",
              "  .colab-df-quickchart {\n",
              "      --bg-color: #E8F0FE;\n",
              "      --fill-color: #1967D2;\n",
              "      --hover-bg-color: #E2EBFA;\n",
              "      --hover-fill-color: #174EA6;\n",
              "      --disabled-fill-color: #AAA;\n",
              "      --disabled-bg-color: #DDD;\n",
              "  }\n",
              "\n",
              "  [theme=dark] .colab-df-quickchart {\n",
              "      --bg-color: #3B4455;\n",
              "      --fill-color: #D2E3FC;\n",
              "      --hover-bg-color: #434B5C;\n",
              "      --hover-fill-color: #FFFFFF;\n",
              "      --disabled-bg-color: #3B4455;\n",
              "      --disabled-fill-color: #666;\n",
              "  }\n",
              "\n",
              "  .colab-df-quickchart {\n",
              "    background-color: var(--bg-color);\n",
              "    border: none;\n",
              "    border-radius: 50%;\n",
              "    cursor: pointer;\n",
              "    display: none;\n",
              "    fill: var(--fill-color);\n",
              "    height: 32px;\n",
              "    padding: 0;\n",
              "    width: 32px;\n",
              "  }\n",
              "\n",
              "  .colab-df-quickchart:hover {\n",
              "    background-color: var(--hover-bg-color);\n",
              "    box-shadow: 0 1px 2px rgba(60, 64, 67, 0.3), 0 1px 3px 1px rgba(60, 64, 67, 0.15);\n",
              "    fill: var(--button-hover-fill-color);\n",
              "  }\n",
              "\n",
              "  .colab-df-quickchart-complete:disabled,\n",
              "  .colab-df-quickchart-complete:disabled:hover {\n",
              "    background-color: var(--disabled-bg-color);\n",
              "    fill: var(--disabled-fill-color);\n",
              "    box-shadow: none;\n",
              "  }\n",
              "\n",
              "  .colab-df-spinner {\n",
              "    border: 2px solid var(--fill-color);\n",
              "    border-color: transparent;\n",
              "    border-bottom-color: var(--fill-color);\n",
              "    animation:\n",
              "      spin 1s steps(1) infinite;\n",
              "  }\n",
              "\n",
              "  @keyframes spin {\n",
              "    0% {\n",
              "      border-color: transparent;\n",
              "      border-bottom-color: var(--fill-color);\n",
              "      border-left-color: var(--fill-color);\n",
              "    }\n",
              "    20% {\n",
              "      border-color: transparent;\n",
              "      border-left-color: var(--fill-color);\n",
              "      border-top-color: var(--fill-color);\n",
              "    }\n",
              "    30% {\n",
              "      border-color: transparent;\n",
              "      border-left-color: var(--fill-color);\n",
              "      border-top-color: var(--fill-color);\n",
              "      border-right-color: var(--fill-color);\n",
              "    }\n",
              "    40% {\n",
              "      border-color: transparent;\n",
              "      border-right-color: var(--fill-color);\n",
              "      border-top-color: var(--fill-color);\n",
              "    }\n",
              "    60% {\n",
              "      border-color: transparent;\n",
              "      border-right-color: var(--fill-color);\n",
              "    }\n",
              "    80% {\n",
              "      border-color: transparent;\n",
              "      border-right-color: var(--fill-color);\n",
              "      border-bottom-color: var(--fill-color);\n",
              "    }\n",
              "    90% {\n",
              "      border-color: transparent;\n",
              "      border-bottom-color: var(--fill-color);\n",
              "    }\n",
              "  }\n",
              "</style>\n",
              "\n",
              "  <script>\n",
              "    async function quickchart(key) {\n",
              "      const quickchartButtonEl =\n",
              "        document.querySelector('#' + key + ' button');\n",
              "      quickchartButtonEl.disabled = true;  // To prevent multiple clicks.\n",
              "      quickchartButtonEl.classList.add('colab-df-spinner');\n",
              "      try {\n",
              "        const charts = await google.colab.kernel.invokeFunction(\n",
              "            'suggestCharts', [key], {});\n",
              "      } catch (error) {\n",
              "        console.error('Error during call to suggestCharts:', error);\n",
              "      }\n",
              "      quickchartButtonEl.classList.remove('colab-df-spinner');\n",
              "      quickchartButtonEl.classList.add('colab-df-quickchart-complete');\n",
              "    }\n",
              "    (() => {\n",
              "      let quickchartButtonEl =\n",
              "        document.querySelector('#df-e2c760b3-2624-4610-8b5e-29bb3e976348 button');\n",
              "      quickchartButtonEl.style.display =\n",
              "        google.colab.kernel.accessAllowed ? 'block' : 'none';\n",
              "    })();\n",
              "  </script>\n",
              "</div>\n",
              "    </div>\n",
              "  </div>\n"
            ],
            "application/vnd.google.colaboratory.intrinsic+json": {
              "type": "dataframe",
              "variable_name": "X_train"
            }
          },
          "metadata": {},
          "execution_count": 72
        }
      ]
    },
    {
      "cell_type": "code",
      "source": [
        "n_features"
      ],
      "metadata": {
        "id": "oyfexPH4GHRf",
        "outputId": "06d91825-0eb6-4da2-8fc0-8706b6ec4d27",
        "colab": {
          "base_uri": "https://localhost:8080/"
        }
      },
      "execution_count": 62,
      "outputs": [
        {
          "output_type": "execute_result",
          "data": {
            "text/plain": [
              "[2703, 2204, 1789, 1411, 1157, 928, 770, 614, 457, 310, 183, 99, 57, 35, 20]"
            ]
          },
          "metadata": {},
          "execution_count": 62
        }
      ]
    },
    {
      "cell_type": "code",
      "source": [
        "n_features"
      ],
      "metadata": {
        "id": "0-1EHawfunwa",
        "outputId": "429174a6-f659-4aba-f201-b24c4c36a43c",
        "colab": {
          "base_uri": "https://localhost:8080/"
        }
      },
      "execution_count": 63,
      "outputs": [
        {
          "output_type": "execute_result",
          "data": {
            "text/plain": [
              "[2703, 2204, 1789, 1411, 1157, 928, 770, 614, 457, 310, 183, 99, 57, 35, 20]"
            ]
          },
          "metadata": {},
          "execution_count": 63
        }
      ]
    },
    {
      "cell_type": "code",
      "source": [
        "plt.figure(figsize = (6,8))\n",
        "plt.plot(n_features,scores,marker='o')\n",
        "plt.title('Scores for different number of features after Lasso selection')\n",
        "plt.xlabel('Number of selected features after Lasso')\n",
        "plt.ylabel('Mean F1 Score (5-fold CV)')\n",
        "plt.grid()\n",
        "plt.show()"
      ],
      "metadata": {
        "id": "BiUsqSeDuQUb",
        "outputId": "a4e8e9a7-dc47-4709-edd4-a557da763f46",
        "colab": {
          "base_uri": "https://localhost:8080/",
          "height": 718
        }
      },
      "execution_count": 117,
      "outputs": [
        {
          "output_type": "display_data",
          "data": {
            "text/plain": [
              "<Figure size 600x800 with 1 Axes>"
            ],
            "image/png": "[encoded data removed]"
          },
          "metadata": {}
        }
      ]
    },
    {
      "cell_type": "code",
      "source": [
        "X_train"
      ],
      "metadata": {
        "id": "UObZOV4Tm60w",
        "outputId": "eb9d8ace-cd8f-45ef-e06c-ae4da7758ca8",
        "colab": {
          "base_uri": "https://localhost:8080/",
          "height": 443
        }
      },
      "execution_count": 65,
      "outputs": [
        {
          "output_type": "execute_result",
          "data": {
            "text/plain": [
              "          0_0       0_1       0_2       0_3       0_4       0_5       0_6  \\\n",
              "6   -0.012800 -0.165629 -0.013054 -0.340575 -0.417120 -0.418734 -0.324668   \n",
              "684  0.953717  0.730451  1.910663  1.858430  1.445040 -0.055822 -0.098870   \n",
              "622 -0.025631 -0.297686 -0.334699 -0.466399 -0.505214 -0.366496  0.245330   \n",
              "590 -0.022936  0.033056  0.290655  2.372261  0.850756  0.375353 -0.292049   \n",
              "522 -0.019067 -0.094233  0.258240  0.805098  1.268429  0.394664  0.184864   \n",
              "..        ...       ...       ...       ...       ...       ...       ...   \n",
              "560 -0.025686 -0.234549 -0.457720 -0.373090 -0.063774 -0.248281 -0.353216   \n",
              "440 -0.016154 -0.333446 -0.466227 -0.547197 -0.394129 -0.336825  0.825964   \n",
              "618  1.720443  0.858627  0.529744 -0.449623  1.319836  3.821664 -0.004350   \n",
              "527  3.396114  0.777209  0.025587  0.786000  1.785686  3.615338  0.147836   \n",
              "549 -0.024471 -0.286119 -0.279448 -0.116127 -0.184332 -0.275602 -0.327102   \n",
              "\n",
              "          0_7        0_8       0_9  ...    11_740    11_741    11_742  \\\n",
              "6    1.215479   0.000000 -0.105863  ...  2.449464  2.809188  1.735012   \n",
              "684  0.359501   0.376431 -0.043094  ...  3.324052  3.058947  2.493874   \n",
              "622 -0.565734  -0.375847 -0.377079  ...  0.044908 -0.377882  0.072628   \n",
              "590  0.154239   0.609592  2.373446  ...  1.004229  0.854303 -0.175943   \n",
              "522  1.817556  16.883853  7.363951  ...  0.091370  0.345281 -0.566798   \n",
              "..        ...        ...       ...  ...       ...       ...       ...   \n",
              "560  1.633352   0.141718  0.192647  ...  0.613016 -0.555094  0.562981   \n",
              "440 -0.423419  -0.355888 -0.163178  ...  1.410885  1.981650  1.472391   \n",
              "618 -0.285383  -0.049398  2.735960  ...  5.378927  5.025873  5.202990   \n",
              "527  0.030133  -0.177108  0.956484  ... -0.321474 -0.129013  0.256587   \n",
              "549  1.713099  -0.036296 -0.611103  ...  0.695156 -0.164622 -0.704991   \n",
              "\n",
              "       11_743    11_744    11_745    11_746    11_747    11_748    11_749  \n",
              "6    2.557577  2.493190  2.606693  2.112876  2.276969  2.732411  3.100418  \n",
              "684  2.586568  2.321302  3.221466  2.050323  2.301678  2.937569  2.773760  \n",
              "622  0.738022 -0.292520 -0.157901  0.393040  0.020343 -0.631018  0.618798  \n",
              "590 -0.139730 -0.438915  1.173350  0.203233  0.402440  0.136711 -0.007278  \n",
              "522  0.028844 -0.210005 -0.239529 -0.560067  0.582444 -0.358929  0.502358  \n",
              "..        ...       ...       ...       ...       ...       ...       ...  \n",
              "560 -0.141172  0.149962 -0.262738 -0.476865 -0.132273  0.748827  0.318449  \n",
              "440  1.598904  0.773551  1.680955  1.158554  1.294888  1.089855  1.590634  \n",
              "618  6.488071  4.757885  4.772503  5.619000  6.216994  4.698148  5.543528  \n",
              "527 -0.014116 -0.228515  0.383923 -0.087911 -0.072803  0.435387 -0.228934  \n",
              "549  0.347686 -0.356529 -0.166588 -0.056229 -0.476724  0.030805  0.378051  \n",
              "\n",
              "[661 rows x 9000 columns]"
            ],
            "text/html": [
              "\n",
              "  <div id=\"df-3c658d5e-b6a8-46f5-a144-ee0bd8c9b631\" class=\"colab-df-container\">\n",
              "    <div>\n",
              "<style scoped>\n",
              "    .dataframe tbody tr th:only-of-type {\n",
              "        vertical-align: middle;\n",
              "    }\n",
              "\n",
              "    .dataframe tbody tr th {\n",
              "        vertical-align: top;\n",
              "    }\n",
              "\n",
              "    .dataframe thead th {\n",
              "        text-align: right;\n",
              "    }\n",
              "</style>\n",
              "<table border=\"1\" class=\"dataframe\">\n",
              "  <thead>\n",
              "    <tr style=\"text-align: right;\">\n",
              "      <th></th>\n",
              "      <th>0_0</th>\n",
              "      <th>0_1</th>\n",
              "      <th>0_2</th>\n",
              "      <th>0_3</th>\n",
              "      <th>0_4</th>\n",
              "      <th>0_5</th>\n",
              "      <th>0_6</th>\n",
              "      <th>0_7</th>\n",
              "      <th>0_8</th>\n",
              "      <th>0_9</th>\n",
              "      <th>...</th>\n",
              "      <th>11_740</th>\n",
              "      <th>11_741</th>\n",
              "      <th>11_742</th>\n",
              "      <th>11_743</th>\n",
              "      <th>11_744</th>\n",
              "      <th>11_745</th>\n",
              "      <th>11_746</th>\n",
              "      <th>11_747</th>\n",
              "      <th>11_748</th>\n",
              "      <th>11_749</th>\n",
              "    </tr>\n",
              "  </thead>\n",
              "  <tbody>\n",
              "    <tr>\n",
              "      <th>6</th>\n",
              "      <td>-0.012800</td>\n",
              "      <td>-0.165629</td>\n",
              "      <td>-0.013054</td>\n",
              "      <td>-0.340575</td>\n",
              "      <td>-0.417120</td>\n",
              "      <td>-0.418734</td>\n",
              "      <td>-0.324668</td>\n",
              "      <td>1.215479</td>\n",
              "      <td>0.000000</td>\n",
              "      <td>-0.105863</td>\n",
              "      <td>...</td>\n",
              "      <td>2.449464</td>\n",
              "      <td>2.809188</td>\n",
              "      <td>1.735012</td>\n",
              "      <td>2.557577</td>\n",
              "      <td>2.493190</td>\n",
              "      <td>2.606693</td>\n",
              "      <td>2.112876</td>\n",
              "      <td>2.276969</td>\n",
              "      <td>2.732411</td>\n",
              "      <td>3.100418</td>\n",
              "    </tr>\n",
              "    <tr>\n",
              "      <th>684</th>\n",
              "      <td>0.953717</td>\n",
              "      <td>0.730451</td>\n",
              "      <td>1.910663</td>\n",
              "      <td>1.858430</td>\n",
              "      <td>1.445040</td>\n",
              "      <td>-0.055822</td>\n",
              "      <td>-0.098870</td>\n",
              "      <td>0.359501</td>\n",
              "      <td>0.376431</td>\n",
              "      <td>-0.043094</td>\n",
              "      <td>...</td>\n",
              "      <td>3.324052</td>\n",
              "      <td>3.058947</td>\n",
              "      <td>2.493874</td>\n",
              "      <td>2.586568</td>\n",
              "      <td>2.321302</td>\n",
              "      <td>3.221466</td>\n",
              "      <td>2.050323</td>\n",
              "      <td>2.301678</td>\n",
              "      <td>2.937569</td>\n",
              "      <td>2.773760</td>\n",
              "    </tr>\n",
              "    <tr>\n",
              "      <th>622</th>\n",
              "      <td>-0.025631</td>\n",
              "      <td>-0.297686</td>\n",
              "      <td>-0.334699</td>\n",
              "      <td>-0.466399</td>\n",
              "      <td>-0.505214</td>\n",
              "      <td>-0.366496</td>\n",
              "      <td>0.245330</td>\n",
              "      <td>-0.565734</td>\n",
              "      <td>-0.375847</td>\n",
              "      <td>-0.377079</td>\n",
              "      <td>...</td>\n",
              "      <td>0.044908</td>\n",
              "      <td>-0.377882</td>\n",
              "      <td>0.072628</td>\n",
              "      <td>0.738022</td>\n",
              "      <td>-0.292520</td>\n",
              "      <td>-0.157901</td>\n",
              "      <td>0.393040</td>\n",
              "      <td>0.020343</td>\n",
              "      <td>-0.631018</td>\n",
              "      <td>0.618798</td>\n",
              "    </tr>\n",
              "    <tr>\n",
              "      <th>590</th>\n",
              "      <td>-0.022936</td>\n",
              "      <td>0.033056</td>\n",
              "      <td>0.290655</td>\n",
              "      <td>2.372261</td>\n",
              "      <td>0.850756</td>\n",
              "      <td>0.375353</td>\n",
              "      <td>-0.292049</td>\n",
              "      <td>0.154239</td>\n",
              "      <td>0.609592</td>\n",
              "      <td>2.373446</td>\n",
              "      <td>...</td>\n",
              "      <td>1.004229</td>\n",
              "      <td>0.854303</td>\n",
              "      <td>-0.175943</td>\n",
              "      <td>-0.139730</td>\n",
              "      <td>-0.438915</td>\n",
              "      <td>1.173350</td>\n",
              "      <td>0.203233</td>\n",
              "      <td>0.402440</td>\n",
              "      <td>0.136711</td>\n",
              "      <td>-0.007278</td>\n",
              "    </tr>\n",
              "    <tr>\n",
              "      <th>522</th>\n",
              "      <td>-0.019067</td>\n",
              "      <td>-0.094233</td>\n",
              "      <td>0.258240</td>\n",
              "      <td>0.805098</td>\n",
              "      <td>1.268429</td>\n",
              "      <td>0.394664</td>\n",
              "      <td>0.184864</td>\n",
              "      <td>1.817556</td>\n",
              "      <td>16.883853</td>\n",
              "      <td>7.363951</td>\n",
              "      <td>...</td>\n",
              "      <td>0.091370</td>\n",
              "      <td>0.345281</td>\n",
              "      <td>-0.566798</td>\n",
              "      <td>0.028844</td>\n",
              "      <td>-0.210005</td>\n",
              "      <td>-0.239529</td>\n",
              "      <td>-0.560067</td>\n",
              "      <td>0.582444</td>\n",
              "      <td>-0.358929</td>\n",
              "      <td>0.502358</td>\n",
              "    </tr>\n",
              "    <tr>\n",
              "      <th>...</th>\n",
              "      <td>...</td>\n",
              "      <td>...</td>\n",
              "      <td>...</td>\n",
              "      <td>...</td>\n",
              "      <td>...</td>\n",
              "      <td>...</td>\n",
              "      <td>...</td>\n",
              "      <td>...</td>\n",
              "      <td>...</td>\n",
              "      <td>...</td>\n",
              "      <td>...</td>\n",
              "      <td>...</td>\n",
              "      <td>...</td>\n",
              "      <td>...</td>\n",
              "      <td>...</td>\n",
              "      <td>...</td>\n",
              "      <td>...</td>\n",
              "      <td>...</td>\n",
              "      <td>...</td>\n",
              "      <td>...</td>\n",
              "      <td>...</td>\n",
              "    </tr>\n",
              "    <tr>\n",
              "      <th>560</th>\n",
              "      <td>-0.025686</td>\n",
              "      <td>-0.234549</td>\n",
              "      <td>-0.457720</td>\n",
              "      <td>-0.373090</td>\n",
              "      <td>-0.063774</td>\n",
              "      <td>-0.248281</td>\n",
              "      <td>-0.353216</td>\n",
              "      <td>1.633352</td>\n",
              "      <td>0.141718</td>\n",
              "      <td>0.192647</td>\n",
              "      <td>...</td>\n",
              "      <td>0.613016</td>\n",
              "      <td>-0.555094</td>\n",
              "      <td>0.562981</td>\n",
              "      <td>-0.141172</td>\n",
              "      <td>0.149962</td>\n",
              "      <td>-0.262738</td>\n",
              "      <td>-0.476865</td>\n",
              "      <td>-0.132273</td>\n",
              "      <td>0.748827</td>\n",
              "      <td>0.318449</td>\n",
              "    </tr>\n",
              "    <tr>\n",
              "      <th>440</th>\n",
              "      <td>-0.016154</td>\n",
              "      <td>-0.333446</td>\n",
              "      <td>-0.466227</td>\n",
              "      <td>-0.547197</td>\n",
              "      <td>-0.394129</td>\n",
              "      <td>-0.336825</td>\n",
              "      <td>0.825964</td>\n",
              "      <td>-0.423419</td>\n",
              "      <td>-0.355888</td>\n",
              "      <td>-0.163178</td>\n",
              "      <td>...</td>\n",
              "      <td>1.410885</td>\n",
              "      <td>1.981650</td>\n",
              "      <td>1.472391</td>\n",
              "      <td>1.598904</td>\n",
              "      <td>0.773551</td>\n",
              "      <td>1.680955</td>\n",
              "      <td>1.158554</td>\n",
              "      <td>1.294888</td>\n",
              "      <td>1.089855</td>\n",
              "      <td>1.590634</td>\n",
              "    </tr>\n",
              "    <tr>\n",
              "      <th>618</th>\n",
              "      <td>1.720443</td>\n",
              "      <td>0.858627</td>\n",
              "      <td>0.529744</td>\n",
              "      <td>-0.449623</td>\n",
              "      <td>1.319836</td>\n",
              "      <td>3.821664</td>\n",
              "      <td>-0.004350</td>\n",
              "      <td>-0.285383</td>\n",
              "      <td>-0.049398</td>\n",
              "      <td>2.735960</td>\n",
              "      <td>...</td>\n",
              "      <td>5.378927</td>\n",
              "      <td>5.025873</td>\n",
              "      <td>5.202990</td>\n",
              "      <td>6.488071</td>\n",
              "      <td>4.757885</td>\n",
              "      <td>4.772503</td>\n",
              "      <td>5.619000</td>\n",
              "      <td>6.216994</td>\n",
              "      <td>4.698148</td>\n",
              "      <td>5.543528</td>\n",
              "    </tr>\n",
              "    <tr>\n",
              "      <th>527</th>\n",
              "      <td>3.396114</td>\n",
              "      <td>0.777209</td>\n",
              "      <td>0.025587</td>\n",
              "      <td>0.786000</td>\n",
              "      <td>1.785686</td>\n",
              "      <td>3.615338</td>\n",
              "      <td>0.147836</td>\n",
              "      <td>0.030133</td>\n",
              "      <td>-0.177108</td>\n",
              "      <td>0.956484</td>\n",
              "      <td>...</td>\n",
              "      <td>-0.321474</td>\n",
              "      <td>-0.129013</td>\n",
              "      <td>0.256587</td>\n",
              "      <td>-0.014116</td>\n",
              "      <td>-0.228515</td>\n",
              "      <td>0.383923</td>\n",
              "      <td>-0.087911</td>\n",
              "      <td>-0.072803</td>\n",
              "      <td>0.435387</td>\n",
              "      <td>-0.228934</td>\n",
              "    </tr>\n",
              "    <tr>\n",
              "      <th>549</th>\n",
              "      <td>-0.024471</td>\n",
              "      <td>-0.286119</td>\n",
              "      <td>-0.279448</td>\n",
              "      <td>-0.116127</td>\n",
              "      <td>-0.184332</td>\n",
              "      <td>-0.275602</td>\n",
              "      <td>-0.327102</td>\n",
              "      <td>1.713099</td>\n",
              "      <td>-0.036296</td>\n",
              "      <td>-0.611103</td>\n",
              "      <td>...</td>\n",
              "      <td>0.695156</td>\n",
              "      <td>-0.164622</td>\n",
              "      <td>-0.704991</td>\n",
              "      <td>0.347686</td>\n",
              "      <td>-0.356529</td>\n",
              "      <td>-0.166588</td>\n",
              "      <td>-0.056229</td>\n",
              "      <td>-0.476724</td>\n",
              "      <td>0.030805</td>\n",
              "      <td>0.378051</td>\n",
              "    </tr>\n",
              "  </tbody>\n",
              "</table>\n",
              "<p>661 rows × 9000 columns</p>\n",
              "</div>\n",
              "    <div class=\"colab-df-buttons\">\n",
              "\n",
              "  <div class=\"colab-df-container\">\n",
              "    <button class=\"colab-df-convert\" onclick=\"convertToInteractive('df-3c658d5e-b6a8-46f5-a144-ee0bd8c9b631')\"\n",
              "            title=\"Convert this dataframe to an interactive table.\"\n",
              "            style=\"display:none;\">\n",
              "\n",
              "  <svg xmlns=\"http://www.w3.org/2000/svg\" height=\"24px\" viewBox=\"0 -960 960 960\">\n",
              "    <path d=\"M120-120v-720h720v720H120Zm60-500h600v-160H180v160Zm220 220h160v-160H400v160Zm0 220h160v-160H400v160ZM180-400h160v-160H180v160Zm440 0h160v-160H620v160ZM180-180h160v-160H180v160Zm440 0h160v-160H620v160Z\"/>\n",
              "  </svg>\n",
              "    </button>\n",
              "\n",
              "  <style>\n",
              "    .colab-df-container {\n",
              "      display:flex;\n",
              "      gap: 12px;\n",
              "    }\n",
              "\n",
              "    .colab-df-convert {\n",
              "      background-color: #E8F0FE;\n",
              "      border: none;\n",
              "      border-radius: 50%;\n",
              "      cursor: pointer;\n",
              "      display: none;\n",
              "      fill: #1967D2;\n",
              "      height: 32px;\n",
              "      padding: 0 0 0 0;\n",
              "      width: 32px;\n",
              "    }\n",
              "\n",
              "    .colab-df-convert:hover {\n",
              "      background-color: #E2EBFA;\n",
              "      box-shadow: 0px 1px 2px rgba(60, 64, 67, 0.3), 0px 1px 3px 1px rgba(60, 64, 67, 0.15);\n",
              "      fill: #174EA6;\n",
              "    }\n",
              "\n",
              "    .colab-df-buttons div {\n",
              "      margin-bottom: 4px;\n",
              "    }\n",
              "\n",
              "    [theme=dark] .colab-df-convert {\n",
              "      background-color: #3B4455;\n",
              "      fill: #D2E3FC;\n",
              "    }\n",
              "\n",
              "    [theme=dark] .colab-df-convert:hover {\n",
              "      background-color: #434B5C;\n",
              "      box-shadow: 0px 1px 3px 1px rgba(0, 0, 0, 0.15);\n",
              "      filter: drop-shadow(0px 1px 2px rgba(0, 0, 0, 0.3));\n",
              "      fill: #FFFFFF;\n",
              "    }\n",
              "  </style>\n",
              "\n",
              "    <script>\n",
              "      const buttonEl =\n",
              "        document.querySelector('#df-3c658d5e-b6a8-46f5-a144-ee0bd8c9b631 button.colab-df-convert');\n",
              "      buttonEl.style.display =\n",
              "        google.colab.kernel.accessAllowed ? 'block' : 'none';\n",
              "\n",
              "      async function convertToInteractive(key) {\n",
              "        const element = document.querySelector('#df-3c658d5e-b6a8-46f5-a144-ee0bd8c9b631');\n",
              "        const dataTable =\n",
              "          await google.colab.kernel.invokeFunction('convertToInteractive',\n",
              "                                                    [key], {});\n",
              "        if (!dataTable) return;\n",
              "\n",
              "        const docLinkHtml = 'Like what you see? Visit the ' +\n",
              "          '<a target=\"_blank\" href=https://colab.research.google.com/notebooks/data_table.ipynb>data table notebook</a>'\n",
              "          + ' to learn more about interactive tables.';\n",
              "        element.innerHTML = '';\n",
              "        dataTable['output_type'] = 'display_data';\n",
              "        await google.colab.output.renderOutput(dataTable, element);\n",
              "        const docLink = document.createElement('div');\n",
              "        docLink.innerHTML = docLinkHtml;\n",
              "        element.appendChild(docLink);\n",
              "      }\n",
              "    </script>\n",
              "  </div>\n",
              "\n",
              "\n",
              "<div id=\"df-70c6745b-eb59-4bd7-baf1-e52d2cd3a6ed\">\n",
              "  <button class=\"colab-df-quickchart\" onclick=\"quickchart('df-70c6745b-eb59-4bd7-baf1-e52d2cd3a6ed')\"\n",
              "            title=\"Suggest charts\"\n",
              "            style=\"display:none;\">\n",
              "\n",
              "<svg xmlns=\"http://www.w3.org/2000/svg\" height=\"24px\"viewBox=\"0 0 24 24\"\n",
              "     width=\"24px\">\n",
              "    <g>\n",
              "        <path d=\"M19 3H5c-1.1 0-2 .9-2 2v14c0 1.1.9 2 2 2h14c1.1 0 2-.9 2-2V5c0-1.1-.9-2-2-2zM9 17H7v-7h2v7zm4 0h-2V7h2v10zm4 0h-2v-4h2v4z\"/>\n",
              "    </g>\n",
              "</svg>\n",
              "  </button>\n",
              "\n",
              "<style>\n",
              "  .colab-df-quickchart {\n",
              "      --bg-color: #E8F0FE;\n",
              "      --fill-color: #1967D2;\n",
              "      --hover-bg-color: #E2EBFA;\n",
              "      --hover-fill-color: #174EA6;\n",
              "      --disabled-fill-color: #AAA;\n",
              "      --disabled-bg-color: #DDD;\n",
              "  }\n",
              "\n",
              "  [theme=dark] .colab-df-quickchart {\n",
              "      --bg-color: #3B4455;\n",
              "      --fill-color: #D2E3FC;\n",
              "      --hover-bg-color: #434B5C;\n",
              "      --hover-fill-color: #FFFFFF;\n",
              "      --disabled-bg-color: #3B4455;\n",
              "      --disabled-fill-color: #666;\n",
              "  }\n",
              "\n",
              "  .colab-df-quickchart {\n",
              "    background-color: var(--bg-color);\n",
              "    border: none;\n",
              "    border-radius: 50%;\n",
              "    cursor: pointer;\n",
              "    display: none;\n",
              "    fill: var(--fill-color);\n",
              "    height: 32px;\n",
              "    padding: 0;\n",
              "    width: 32px;\n",
              "  }\n",
              "\n",
              "  .colab-df-quickchart:hover {\n",
              "    background-color: var(--hover-bg-color);\n",
              "    box-shadow: 0 1px 2px rgba(60, 64, 67, 0.3), 0 1px 3px 1px rgba(60, 64, 67, 0.15);\n",
              "    fill: var(--button-hover-fill-color);\n",
              "  }\n",
              "\n",
              "  .colab-df-quickchart-complete:disabled,\n",
              "  .colab-df-quickchart-complete:disabled:hover {\n",
              "    background-color: var(--disabled-bg-color);\n",
              "    fill: var(--disabled-fill-color);\n",
              "    box-shadow: none;\n",
              "  }\n",
              "\n",
              "  .colab-df-spinner {\n",
              "    border: 2px solid var(--fill-color);\n",
              "    border-color: transparent;\n",
              "    border-bottom-color: var(--fill-color);\n",
              "    animation:\n",
              "      spin 1s steps(1) infinite;\n",
              "  }\n",
              "\n",
              "  @keyframes spin {\n",
              "    0% {\n",
              "      border-color: transparent;\n",
              "      border-bottom-color: var(--fill-color);\n",
              "      border-left-color: var(--fill-color);\n",
              "    }\n",
              "    20% {\n",
              "      border-color: transparent;\n",
              "      border-left-color: var(--fill-color);\n",
              "      border-top-color: var(--fill-color);\n",
              "    }\n",
              "    30% {\n",
              "      border-color: transparent;\n",
              "      border-left-color: var(--fill-color);\n",
              "      border-top-color: var(--fill-color);\n",
              "      border-right-color: var(--fill-color);\n",
              "    }\n",
              "    40% {\n",
              "      border-color: transparent;\n",
              "      border-right-color: var(--fill-color);\n",
              "      border-top-color: var(--fill-color);\n",
              "    }\n",
              "    60% {\n",
              "      border-color: transparent;\n",
              "      border-right-color: var(--fill-color);\n",
              "    }\n",
              "    80% {\n",
              "      border-color: transparent;\n",
              "      border-right-color: var(--fill-color);\n",
              "      border-bottom-color: var(--fill-color);\n",
              "    }\n",
              "    90% {\n",
              "      border-color: transparent;\n",
              "      border-bottom-color: var(--fill-color);\n",
              "    }\n",
              "  }\n",
              "</style>\n",
              "\n",
              "  <script>\n",
              "    async function quickchart(key) {\n",
              "      const quickchartButtonEl =\n",
              "        document.querySelector('#' + key + ' button');\n",
              "      quickchartButtonEl.disabled = true;  // To prevent multiple clicks.\n",
              "      quickchartButtonEl.classList.add('colab-df-spinner');\n",
              "      try {\n",
              "        const charts = await google.colab.kernel.invokeFunction(\n",
              "            'suggestCharts', [key], {});\n",
              "      } catch (error) {\n",
              "        console.error('Error during call to suggestCharts:', error);\n",
              "      }\n",
              "      quickchartButtonEl.classList.remove('colab-df-spinner');\n",
              "      quickchartButtonEl.classList.add('colab-df-quickchart-complete');\n",
              "    }\n",
              "    (() => {\n",
              "      let quickchartButtonEl =\n",
              "        document.querySelector('#df-70c6745b-eb59-4bd7-baf1-e52d2cd3a6ed button');\n",
              "      quickchartButtonEl.style.display =\n",
              "        google.colab.kernel.accessAllowed ? 'block' : 'none';\n",
              "    })();\n",
              "  </script>\n",
              "</div>\n",
              "    </div>\n",
              "  </div>\n"
            ],
            "application/vnd.google.colaboratory.intrinsic+json": {
              "type": "dataframe",
              "variable_name": "X_train"
            }
          },
          "metadata": {},
          "execution_count": 65
        }
      ]
    },
    {
      "cell_type": "code",
      "source": [
        "# Define the pipeline\n",
        "pipeline = Pipeline([\n",
        "    ('feature_selection', SelectKBest()),\n",
        "    ('model', SVC()),                  # Step 4: SMOTE for oversampling\n",
        "])\n",
        "\n",
        "# Define parameter grid for GridSearchCV\n",
        "param_grid = {\n",
        "    'feature_selection__k': [40,80,100,300,500,800],  # Threshold for SelectFromModel\n",
        "    'model__kernel': ['linear']\n",
        "}\n",
        "# Create GridSearchCV object\n",
        "grid_search = GridSearchCV(estimator=pipeline, param_grid=param_grid, cv=5,verbose = 2,scoring = 'f1')\n",
        "\n",
        "# Fit GridSearchCV to the training data\n",
        "grid_search.fit(X_train, y_train)\n",
        "\n",
        "# Get the best model from GridSearchCV\n",
        "best_model = grid_search.best_estimator_\n",
        "\n",
        "# Extract selected features indices\n",
        "selected_features = best_model.named_steps['feature_selection'].get_support(indices=True)\n",
        "features_univariate = X_train.iloc[:,selected_features]\n",
        "# Print indices of selected features\n",
        "print(\"Selected features\",X_train.iloc[:,selected_features].columns)\n",
        "\n",
        "# Print best parameters and best score\n",
        "print(\"Best parameters:\", grid_search.best_params_)\n",
        "print(\"Best score:\", grid_search.best_score_)\n",
        "\n",
        "# Evaluate the best model on the test data"
      ],
      "metadata": {
        "colab": {
          "base_uri": "https://localhost:8080/"
        },
        "id": "PrerY4icHLep",
        "outputId": "da7f0f62-4cb7-40ff-973a-65dc3b73419f"
      },
      "execution_count": 122,
      "outputs": [
        {
          "output_type": "stream",
          "name": "stdout",
          "text": [
            "Fitting 5 folds for each of 6 candidates, totalling 30 fits\n",
            "[CV] END ......feature_selection__k=40, model__kernel=linear; total time=   0.5s\n",
            "[CV] END ......feature_selection__k=40, model__kernel=linear; total time=   0.4s\n",
            "[CV] END ......feature_selection__k=40, model__kernel=linear; total time=   0.5s\n",
            "[CV] END ......feature_selection__k=40, model__kernel=linear; total time=   0.4s\n",
            "[CV] END ......feature_selection__k=40, model__kernel=linear; total time=   0.4s\n",
            "[CV] END ......feature_selection__k=80, model__kernel=linear; total time=   0.5s\n",
            "[CV] END ......feature_selection__k=80, model__kernel=linear; total time=   0.9s\n",
            "[CV] END ......feature_selection__k=80, model__kernel=linear; total time=   0.8s\n",
            "[CV] END ......feature_selection__k=80, model__kernel=linear; total time=   1.0s\n",
            "[CV] END ......feature_selection__k=80, model__kernel=linear; total time=   0.8s\n",
            "[CV] END .....feature_selection__k=100, model__kernel=linear; total time=   0.5s\n",
            "[CV] END .....feature_selection__k=100, model__kernel=linear; total time=   0.5s\n",
            "[CV] END .....feature_selection__k=100, model__kernel=linear; total time=   0.4s\n",
            "[CV] END .....feature_selection__k=100, model__kernel=linear; total time=   0.5s\n",
            "[CV] END .....feature_selection__k=100, model__kernel=linear; total time=   0.5s\n",
            "[CV] END .....feature_selection__k=300, model__kernel=linear; total time=   0.4s\n",
            "[CV] END .....feature_selection__k=300, model__kernel=linear; total time=   0.4s\n",
            "[CV] END .....feature_selection__k=300, model__kernel=linear; total time=   0.4s\n",
            "[CV] END .....feature_selection__k=300, model__kernel=linear; total time=   0.4s\n",
            "[CV] END .....feature_selection__k=300, model__kernel=linear; total time=   0.4s\n",
            "[CV] END .....feature_selection__k=500, model__kernel=linear; total time=   0.4s\n",
            "[CV] END .....feature_selection__k=500, model__kernel=linear; total time=   0.4s\n",
            "[CV] END .....feature_selection__k=500, model__kernel=linear; total time=   0.4s\n",
            "[CV] END .....feature_selection__k=500, model__kernel=linear; total time=   0.4s\n",
            "[CV] END .....feature_selection__k=500, model__kernel=linear; total time=   0.4s\n",
            "[CV] END .....feature_selection__k=800, model__kernel=linear; total time=   0.4s\n",
            "[CV] END .....feature_selection__k=800, model__kernel=linear; total time=   0.4s\n",
            "[CV] END .....feature_selection__k=800, model__kernel=linear; total time=   0.4s\n",
            "[CV] END .....feature_selection__k=800, model__kernel=linear; total time=   0.4s\n",
            "[CV] END .....feature_selection__k=800, model__kernel=linear; total time=   0.4s\n",
            "Selected features Index(['0_6', '0_8', '0_9', '0_10', '0_11', '0_13', '0_27', '0_37', '0_39',\n",
            "       '0_40',\n",
            "       ...\n",
            "       '11_108', '11_120', '11_121', '11_122', '11_123', '11_129', '11_134',\n",
            "       '11_147', '11_153', '11_165'],\n",
            "      dtype='object', length=800)\n",
            "Best parameters: {'feature_selection__k': 800, 'model__kernel': 'linear'}\n",
            "Best score: 0.5492298372102533\n"
          ]
        }
      ]
    },
    {
      "cell_type": "code",
      "source": [],
      "metadata": {
        "id": "sTDDGbwp7RA-"
      },
      "execution_count": 66,
      "outputs": []
    },
    {
      "cell_type": "code",
      "source": [],
      "metadata": {
        "id": "WDeBwQqh51Fq"
      },
      "execution_count": 66,
      "outputs": []
    },
    {
      "cell_type": "code",
      "source": [
        "# Extract mean test scores and parameter values from cv_results_\n",
        "mean_test_scores = grid_search.cv_results_['mean_test_score']\n",
        "param_values = grid_search.cv_results_['param_feature_selection__k']\n",
        "\n",
        "# Plot mean test scores against parameter values\n",
        "plt.figure(figsize=(10, 6))\n",
        "plt.plot(param_values, mean_test_scores, marker='o', linestyle='-')\n",
        "plt.title('Scores for different number of features after univariate selection')\n",
        "plt.xlabel('Number of selected features')\n",
        "plt.ylabel('Mean F1 Score (5-fold CV)')\n",
        "plt.grid()\n",
        "plt.show()"
      ],
      "metadata": {
        "id": "xSkk-41qsI8e",
        "outputId": "ce965f62-081b-4fad-f8ae-1373f1b0e6e4",
        "colab": {
          "base_uri": "https://localhost:8080/",
          "height": 564
        }
      },
      "execution_count": 123,
      "outputs": [
        {
          "output_type": "display_data",
          "data": {
            "text/plain": [
              "<Figure size 1000x600 with 1 Axes>"
            ],
            "image/png": "[encoded data removed]"
          },
          "metadata": {}
        }
      ]
    },
    {
      "cell_type": "markdown",
      "source": [
        "Conclusion based on grid search for two different feature selection techniques:\n",
        "*  Lasso feature selection: the graph shows us that the top of the graph is reached between 500 and 1000 features. This amount of features have to be selected to get the optimal F1 score. This leads to the curse of dimensionality and overfitting.\n",
        "*   Univariate testing: Each added feature contributes to an increment of the F1 score. However, we found that the increment decreases as the number of selected features increase. Around the 500 selected features seems to be a flattening of the curve, thus optimal for training the data.\n",
        "\n",
        "As we found that 500 features are preferable we are still faced with the curse of dimensionality because the number of features (500) is large comopared to the number of samples (827). Therefore we have the risk of overfitting (as we also saw in the learning curve). There are several methods of preventing overfitting. One of them is PCA: preferably you would like to capture the information of all these features in a few new features which possess the characteristics of the data (like PCA)\n",
        "\n",
        "Other methods to mitigate the risk of overfitting when dealing with high-dimensional data, you can consider:\n",
        "\n",
        "*   Feature Selection: Use techniques like feature selection to identify the most informative features and reduce the dimensionality of the feature space. (already done)\n",
        "*   Cross-Validation: Use cross-validation to assess the generalization performance of the model and tune hyperparameters to prevent overfitting. (already done)\n",
        "*   Dimensionality Reduction: Use dimensionality reduction techniques like Principal Component Analysis (PCA) or t-distributed Stochastic Neighbor Embedding (t-SNE) to project the data onto a lower-dimensional space while preserving as much variance as possible. (to be done)\n",
        "*   Regularization: Apply regularization techniques like L1 (Lasso) or L2 (Ridge) regularization to penalize large coefficients and prevent overfitting. (to be done if PCA is insufficient)\n",
        "\n",
        "\n",
        "\n",
        "\n",
        "\n",
        "\n"
      ],
      "metadata": {
        "id": "4MXcMhvsYbyc"
      }
    },
    {
      "cell_type": "markdown",
      "source": [
        "### Learning curve"
      ],
      "metadata": {
        "id": "Qm8aAEmEzzb6"
      }
    },
    {
      "cell_type": "code",
      "source": [],
      "metadata": {
        "id": "L5QVQupi9GZs"
      },
      "execution_count": 67,
      "outputs": []
    },
    {
      "cell_type": "code",
      "source": [
        "from sklearn.model_selection import learning_curve\n",
        "\n",
        "def plot_learning_curve(estimator, title, X, y, axes, ylim=None, cv=None,\n",
        "                        n_jobs=None, train_sizes=np.linspace(.1, 1.0, 10)):\n",
        "\n",
        "    axes.set_title(title)\n",
        "    if ylim is not None:\n",
        "        axes.set_ylim(*ylim)\n",
        "    axes.set_xlabel(\"Training examples\")\n",
        "    axes.set_ylabel(\"Score\")\n",
        "\n",
        "    train_sizes, train_scores, test_scores  = \\\n",
        "        learning_curve(estimator, X, y, cv=cv, n_jobs=n_jobs,\n",
        "                       train_sizes=train_sizes)\n",
        "    train_scores_mean = np.mean(train_scores, axis=1)\n",
        "    train_scores_std = np.std(train_scores, axis=1)\n",
        "    test_scores_mean = np.mean(test_scores, axis=1)\n",
        "    test_scores_std = np.std(test_scores, axis=1)\n",
        "\n",
        "    # Plot learning curve\n",
        "    axes.grid()\n",
        "    axes.fill_between(train_sizes, train_scores_mean - train_scores_std,\n",
        "                         train_scores_mean + train_scores_std, alpha=0.1,\n",
        "                         color=\"r\")\n",
        "    axes.fill_between(train_sizes, test_scores_mean - test_scores_std,\n",
        "                         test_scores_mean + test_scores_std, alpha=0.1,\n",
        "                         color=\"g\")\n",
        "    axes.plot(train_sizes, train_scores_mean, 'o-', color=\"r\",\n",
        "                 label=\"Training score\")\n",
        "    axes.plot(train_sizes, test_scores_mean, 'o-', color=\"g\",\n",
        "                 label=\"Cross-validation score\")\n",
        "    axes.legend(loc=\"best\")\n",
        "\n",
        "    return plt\n",
        "\n",
        "  # Now use the classifiers on all datasets\n",
        "num = 0\n",
        "fig = plt.figure(figsize=(6,8))\n",
        "for alpha, feature_lasso in features_lasso.items():\n",
        "      # Split data in training and testing\n",
        "      title = f'{alpha}'\n",
        "      ax = fig.add_subplot(4, 1, num + 1)\n",
        "      plot_learning_curve(SVC(random_state = 1,kernel = 'linear'), title, feature_lasso, y_train, ax, ylim=(0.7, 1.1), cv=5)\n",
        "      num += 1\n",
        "plt.tight_layout()\n",
        "fig.show()"
      ],
      "metadata": {
        "id": "KZ8NU0MA0M65",
        "outputId": "7d223023-d11e-4c29-b884-5a8fa136ef9f",
        "colab": {
          "base_uri": "https://localhost:8080/",
          "height": 34
        }
      },
      "execution_count": 127,
      "outputs": [
        {
          "output_type": "display_data",
          "data": {
            "text/plain": [
              "<Figure size 600x800 with 0 Axes>"
            ]
          },
          "metadata": {}
        }
      ]
    },
    {
      "cell_type": "markdown",
      "source": [
        "In this figure we see that the training score doesn't decrease towards the cross validation score. This is a sign of overfitting. So we should think of ways to compensate for the overfitting as mentioned above.\n",
        "\n",
        "Discussion: because of oversampling you have copies of the training data: it is logical that the training data score is good."
      ],
      "metadata": {
        "id": "kt7ad20ZF2DW"
      }
    },
    {
      "cell_type": "code",
      "source": [
        "  # Now use the classifiers on all datasets\n",
        "fig,ax = plt.subplots(figsize=(6,8))\n",
        "title = 'learning curve with 800 features'\n",
        "plot_learning_curve(SVC(random_state = 1,kernel = 'linear'), title, features_univariate, y_train, ax, ylim=(0.3, 1.01), cv=5)\n",
        "plt.tight_layout()\n",
        "plt.show()"
      ],
      "metadata": {
        "id": "L-RgRKBiALrV"
      },
      "execution_count": null,
      "outputs": []
    },
    {
      "cell_type": "markdown",
      "source": [
        "In the figure above we see overfitting: the true and apparent error do not converge. The training score is very good but on the validation data it is not very good."
      ],
      "metadata": {
        "id": "kXt8eandFhnW"
      }
    },
    {
      "cell_type": "markdown",
      "source": [
        "## Classifiers"
      ],
      "metadata": {
        "id": "dL1uIxkLL0hq"
      }
    },
    {
      "cell_type": "code",
      "source": [
        "X_train"
      ],
      "metadata": {
        "id": "FmpiI4BoL6qp",
        "outputId": "5dbfa26b-f6a6-409e-a258-d9dd8dbbdd5d",
        "colab": {
          "base_uri": "https://localhost:8080/",
          "height": 443
        }
      },
      "execution_count": 74,
      "outputs": [
        {
          "output_type": "execute_result",
          "data": {
            "text/plain": [
              "          0_0       0_1       0_2       0_3       0_4       0_5       0_6  \\\n",
              "6   -0.012800 -0.165629 -0.013054 -0.340575 -0.417120 -0.418734 -0.324668   \n",
              "684  0.953717  0.730451  1.910663  1.858430  1.445040 -0.055822 -0.098870   \n",
              "622 -0.025631 -0.297686 -0.334699 -0.466399 -0.505214 -0.366496  0.245330   \n",
              "590 -0.022936  0.033056  0.290655  2.372261  0.850756  0.375353 -0.292049   \n",
              "522 -0.019067 -0.094233  0.258240  0.805098  1.268429  0.394664  0.184864   \n",
              "..        ...       ...       ...       ...       ...       ...       ...   \n",
              "560 -0.025686 -0.234549 -0.457720 -0.373090 -0.063774 -0.248281 -0.353216   \n",
              "440 -0.016154 -0.333446 -0.466227 -0.547197 -0.394129 -0.336825  0.825964   \n",
              "618  1.720443  0.858627  0.529744 -0.449623  1.319836  3.821664 -0.004350   \n",
              "527  3.396114  0.777209  0.025587  0.786000  1.785686  3.615338  0.147836   \n",
              "549 -0.024471 -0.286119 -0.279448 -0.116127 -0.184332 -0.275602 -0.327102   \n",
              "\n",
              "          0_7        0_8       0_9  ...    11_740    11_741    11_742  \\\n",
              "6    1.215479   0.000000 -0.105863  ...  2.449464  2.809188  1.735012   \n",
              "684  0.359501   0.376431 -0.043094  ...  3.324052  3.058947  2.493874   \n",
              "622 -0.565734  -0.375847 -0.377079  ...  0.044908 -0.377882  0.072628   \n",
              "590  0.154239   0.609592  2.373446  ...  1.004229  0.854303 -0.175943   \n",
              "522  1.817556  16.883853  7.363951  ...  0.091370  0.345281 -0.566798   \n",
              "..        ...        ...       ...  ...       ...       ...       ...   \n",
              "560  1.633352   0.141718  0.192647  ...  0.613016 -0.555094  0.562981   \n",
              "440 -0.423419  -0.355888 -0.163178  ...  1.410885  1.981650  1.472391   \n",
              "618 -0.285383  -0.049398  2.735960  ...  5.378927  5.025873  5.202990   \n",
              "527  0.030133  -0.177108  0.956484  ... -0.321474 -0.129013  0.256587   \n",
              "549  1.713099  -0.036296 -0.611103  ...  0.695156 -0.164622 -0.704991   \n",
              "\n",
              "       11_743    11_744    11_745    11_746    11_747    11_748    11_749  \n",
              "6    2.557577  2.493190  2.606693  2.112876  2.276969  2.732411  3.100418  \n",
              "684  2.586568  2.321302  3.221466  2.050323  2.301678  2.937569  2.773760  \n",
              "622  0.738022 -0.292520 -0.157901  0.393040  0.020343 -0.631018  0.618798  \n",
              "590 -0.139730 -0.438915  1.173350  0.203233  0.402440  0.136711 -0.007278  \n",
              "522  0.028844 -0.210005 -0.239529 -0.560067  0.582444 -0.358929  0.502358  \n",
              "..        ...       ...       ...       ...       ...       ...       ...  \n",
              "560 -0.141172  0.149962 -0.262738 -0.476865 -0.132273  0.748827  0.318449  \n",
              "440  1.598904  0.773551  1.680955  1.158554  1.294888  1.089855  1.590634  \n",
              "618  6.488071  4.757885  4.772503  5.619000  6.216994  4.698148  5.543528  \n",
              "527 -0.014116 -0.228515  0.383923 -0.087911 -0.072803  0.435387 -0.228934  \n",
              "549  0.347686 -0.356529 -0.166588 -0.056229 -0.476724  0.030805  0.378051  \n",
              "\n",
              "[661 rows x 9000 columns]"
            ],
            "text/html": [
              "\n",
              "  <div id=\"df-f41e17bf-8f0a-4177-b16c-678b4238a6ae\" class=\"colab-df-container\">\n",
              "    <div>\n",
              "<style scoped>\n",
              "    .dataframe tbody tr th:only-of-type {\n",
              "        vertical-align: middle;\n",
              "    }\n",
              "\n",
              "    .dataframe tbody tr th {\n",
              "        vertical-align: top;\n",
              "    }\n",
              "\n",
              "    .dataframe thead th {\n",
              "        text-align: right;\n",
              "    }\n",
              "</style>\n",
              "<table border=\"1\" class=\"dataframe\">\n",
              "  <thead>\n",
              "    <tr style=\"text-align: right;\">\n",
              "      <th></th>\n",
              "      <th>0_0</th>\n",
              "      <th>0_1</th>\n",
              "      <th>0_2</th>\n",
              "      <th>0_3</th>\n",
              "      <th>0_4</th>\n",
              "      <th>0_5</th>\n",
              "      <th>0_6</th>\n",
              "      <th>0_7</th>\n",
              "      <th>0_8</th>\n",
              "      <th>0_9</th>\n",
              "      <th>...</th>\n",
              "      <th>11_740</th>\n",
              "      <th>11_741</th>\n",
              "      <th>11_742</th>\n",
              "      <th>11_743</th>\n",
              "      <th>11_744</th>\n",
              "      <th>11_745</th>\n",
              "      <th>11_746</th>\n",
              "      <th>11_747</th>\n",
              "      <th>11_748</th>\n",
              "      <th>11_749</th>\n",
              "    </tr>\n",
              "  </thead>\n",
              "  <tbody>\n",
              "    <tr>\n",
              "      <th>6</th>\n",
              "      <td>-0.012800</td>\n",
              "      <td>-0.165629</td>\n",
              "      <td>-0.013054</td>\n",
              "      <td>-0.340575</td>\n",
              "      <td>-0.417120</td>\n",
              "      <td>-0.418734</td>\n",
              "      <td>-0.324668</td>\n",
              "      <td>1.215479</td>\n",
              "      <td>0.000000</td>\n",
              "      <td>-0.105863</td>\n",
              "      <td>...</td>\n",
              "      <td>2.449464</td>\n",
              "      <td>2.809188</td>\n",
              "      <td>1.735012</td>\n",
              "      <td>2.557577</td>\n",
              "      <td>2.493190</td>\n",
              "      <td>2.606693</td>\n",
              "      <td>2.112876</td>\n",
              "      <td>2.276969</td>\n",
              "      <td>2.732411</td>\n",
              "      <td>3.100418</td>\n",
              "    </tr>\n",
              "    <tr>\n",
              "      <th>684</th>\n",
              "      <td>0.953717</td>\n",
              "      <td>0.730451</td>\n",
              "      <td>1.910663</td>\n",
              "      <td>1.858430</td>\n",
              "      <td>1.445040</td>\n",
              "      <td>-0.055822</td>\n",
              "      <td>-0.098870</td>\n",
              "      <td>0.359501</td>\n",
              "      <td>0.376431</td>\n",
              "      <td>-0.043094</td>\n",
              "      <td>...</td>\n",
              "      <td>3.324052</td>\n",
              "      <td>3.058947</td>\n",
              "      <td>2.493874</td>\n",
              "      <td>2.586568</td>\n",
              "      <td>2.321302</td>\n",
              "      <td>3.221466</td>\n",
              "      <td>2.050323</td>\n",
              "      <td>2.301678</td>\n",
              "      <td>2.937569</td>\n",
              "      <td>2.773760</td>\n",
              "    </tr>\n",
              "    <tr>\n",
              "      <th>622</th>\n",
              "      <td>-0.025631</td>\n",
              "      <td>-0.297686</td>\n",
              "      <td>-0.334699</td>\n",
              "      <td>-0.466399</td>\n",
              "      <td>-0.505214</td>\n",
              "      <td>-0.366496</td>\n",
              "      <td>0.245330</td>\n",
              "      <td>-0.565734</td>\n",
              "      <td>-0.375847</td>\n",
              "      <td>-0.377079</td>\n",
              "      <td>...</td>\n",
              "      <td>0.044908</td>\n",
              "      <td>-0.377882</td>\n",
              "      <td>0.072628</td>\n",
              "      <td>0.738022</td>\n",
              "      <td>-0.292520</td>\n",
              "      <td>-0.157901</td>\n",
              "      <td>0.393040</td>\n",
              "      <td>0.020343</td>\n",
              "      <td>-0.631018</td>\n",
              "      <td>0.618798</td>\n",
              "    </tr>\n",
              "    <tr>\n",
              "      <th>590</th>\n",
              "      <td>-0.022936</td>\n",
              "      <td>0.033056</td>\n",
              "      <td>0.290655</td>\n",
              "      <td>2.372261</td>\n",
              "      <td>0.850756</td>\n",
              "      <td>0.375353</td>\n",
              "      <td>-0.292049</td>\n",
              "      <td>0.154239</td>\n",
              "      <td>0.609592</td>\n",
              "      <td>2.373446</td>\n",
              "      <td>...</td>\n",
              "      <td>1.004229</td>\n",
              "      <td>0.854303</td>\n",
              "      <td>-0.175943</td>\n",
              "      <td>-0.139730</td>\n",
              "      <td>-0.438915</td>\n",
              "      <td>1.173350</td>\n",
              "      <td>0.203233</td>\n",
              "      <td>0.402440</td>\n",
              "      <td>0.136711</td>\n",
              "      <td>-0.007278</td>\n",
              "    </tr>\n",
              "    <tr>\n",
              "      <th>522</th>\n",
              "      <td>-0.019067</td>\n",
              "      <td>-0.094233</td>\n",
              "      <td>0.258240</td>\n",
              "      <td>0.805098</td>\n",
              "      <td>1.268429</td>\n",
              "      <td>0.394664</td>\n",
              "      <td>0.184864</td>\n",
              "      <td>1.817556</td>\n",
              "      <td>16.883853</td>\n",
              "      <td>7.363951</td>\n",
              "      <td>...</td>\n",
              "      <td>0.091370</td>\n",
              "      <td>0.345281</td>\n",
              "      <td>-0.566798</td>\n",
              "      <td>0.028844</td>\n",
              "      <td>-0.210005</td>\n",
              "      <td>-0.239529</td>\n",
              "      <td>-0.560067</td>\n",
              "      <td>0.582444</td>\n",
              "      <td>-0.358929</td>\n",
              "      <td>0.502358</td>\n",
              "    </tr>\n",
              "    <tr>\n",
              "      <th>...</th>\n",
              "      <td>...</td>\n",
              "      <td>...</td>\n",
              "      <td>...</td>\n",
              "      <td>...</td>\n",
              "      <td>...</td>\n",
              "      <td>...</td>\n",
              "      <td>...</td>\n",
              "      <td>...</td>\n",
              "      <td>...</td>\n",
              "      <td>...</td>\n",
              "      <td>...</td>\n",
              "      <td>...</td>\n",
              "      <td>...</td>\n",
              "      <td>...</td>\n",
              "      <td>...</td>\n",
              "      <td>...</td>\n",
              "      <td>...</td>\n",
              "      <td>...</td>\n",
              "      <td>...</td>\n",
              "      <td>...</td>\n",
              "      <td>...</td>\n",
              "    </tr>\n",
              "    <tr>\n",
              "      <th>560</th>\n",
              "      <td>-0.025686</td>\n",
              "      <td>-0.234549</td>\n",
              "      <td>-0.457720</td>\n",
              "      <td>-0.373090</td>\n",
              "      <td>-0.063774</td>\n",
              "      <td>-0.248281</td>\n",
              "      <td>-0.353216</td>\n",
              "      <td>1.633352</td>\n",
              "      <td>0.141718</td>\n",
              "      <td>0.192647</td>\n",
              "      <td>...</td>\n",
              "      <td>0.613016</td>\n",
              "      <td>-0.555094</td>\n",
              "      <td>0.562981</td>\n",
              "      <td>-0.141172</td>\n",
              "      <td>0.149962</td>\n",
              "      <td>-0.262738</td>\n",
              "      <td>-0.476865</td>\n",
              "      <td>-0.132273</td>\n",
              "      <td>0.748827</td>\n",
              "      <td>0.318449</td>\n",
              "    </tr>\n",
              "    <tr>\n",
              "      <th>440</th>\n",
              "      <td>-0.016154</td>\n",
              "      <td>-0.333446</td>\n",
              "      <td>-0.466227</td>\n",
              "      <td>-0.547197</td>\n",
              "      <td>-0.394129</td>\n",
              "      <td>-0.336825</td>\n",
              "      <td>0.825964</td>\n",
              "      <td>-0.423419</td>\n",
              "      <td>-0.355888</td>\n",
              "      <td>-0.163178</td>\n",
              "      <td>...</td>\n",
              "      <td>1.410885</td>\n",
              "      <td>1.981650</td>\n",
              "      <td>1.472391</td>\n",
              "      <td>1.598904</td>\n",
              "      <td>0.773551</td>\n",
              "      <td>1.680955</td>\n",
              "      <td>1.158554</td>\n",
              "      <td>1.294888</td>\n",
              "      <td>1.089855</td>\n",
              "      <td>1.590634</td>\n",
              "    </tr>\n",
              "    <tr>\n",
              "      <th>618</th>\n",
              "      <td>1.720443</td>\n",
              "      <td>0.858627</td>\n",
              "      <td>0.529744</td>\n",
              "      <td>-0.449623</td>\n",
              "      <td>1.319836</td>\n",
              "      <td>3.821664</td>\n",
              "      <td>-0.004350</td>\n",
              "      <td>-0.285383</td>\n",
              "      <td>-0.049398</td>\n",
              "      <td>2.735960</td>\n",
              "      <td>...</td>\n",
              "      <td>5.378927</td>\n",
              "      <td>5.025873</td>\n",
              "      <td>5.202990</td>\n",
              "      <td>6.488071</td>\n",
              "      <td>4.757885</td>\n",
              "      <td>4.772503</td>\n",
              "      <td>5.619000</td>\n",
              "      <td>6.216994</td>\n",
              "      <td>4.698148</td>\n",
              "      <td>5.543528</td>\n",
              "    </tr>\n",
              "    <tr>\n",
              "      <th>527</th>\n",
              "      <td>3.396114</td>\n",
              "      <td>0.777209</td>\n",
              "      <td>0.025587</td>\n",
              "      <td>0.786000</td>\n",
              "      <td>1.785686</td>\n",
              "      <td>3.615338</td>\n",
              "      <td>0.147836</td>\n",
              "      <td>0.030133</td>\n",
              "      <td>-0.177108</td>\n",
              "      <td>0.956484</td>\n",
              "      <td>...</td>\n",
              "      <td>-0.321474</td>\n",
              "      <td>-0.129013</td>\n",
              "      <td>0.256587</td>\n",
              "      <td>-0.014116</td>\n",
              "      <td>-0.228515</td>\n",
              "      <td>0.383923</td>\n",
              "      <td>-0.087911</td>\n",
              "      <td>-0.072803</td>\n",
              "      <td>0.435387</td>\n",
              "      <td>-0.228934</td>\n",
              "    </tr>\n",
              "    <tr>\n",
              "      <th>549</th>\n",
              "      <td>-0.024471</td>\n",
              "      <td>-0.286119</td>\n",
              "      <td>-0.279448</td>\n",
              "      <td>-0.116127</td>\n",
              "      <td>-0.184332</td>\n",
              "      <td>-0.275602</td>\n",
              "      <td>-0.327102</td>\n",
              "      <td>1.713099</td>\n",
              "      <td>-0.036296</td>\n",
              "      <td>-0.611103</td>\n",
              "      <td>...</td>\n",
              "      <td>0.695156</td>\n",
              "      <td>-0.164622</td>\n",
              "      <td>-0.704991</td>\n",
              "      <td>0.347686</td>\n",
              "      <td>-0.356529</td>\n",
              "      <td>-0.166588</td>\n",
              "      <td>-0.056229</td>\n",
              "      <td>-0.476724</td>\n",
              "      <td>0.030805</td>\n",
              "      <td>0.378051</td>\n",
              "    </tr>\n",
              "  </tbody>\n",
              "</table>\n",
              "<p>661 rows × 9000 columns</p>\n",
              "</div>\n",
              "    <div class=\"colab-df-buttons\">\n",
              "\n",
              "  <div class=\"colab-df-container\">\n",
              "    <button class=\"colab-df-convert\" onclick=\"convertToInteractive('df-f41e17bf-8f0a-4177-b16c-678b4238a6ae')\"\n",
              "            title=\"Convert this dataframe to an interactive table.\"\n",
              "            style=\"display:none;\">\n",
              "\n",
              "  <svg xmlns=\"http://www.w3.org/2000/svg\" height=\"24px\" viewBox=\"0 -960 960 960\">\n",
              "    <path d=\"M120-120v-720h720v720H120Zm60-500h600v-160H180v160Zm220 220h160v-160H400v160Zm0 220h160v-160H400v160ZM180-400h160v-160H180v160Zm440 0h160v-160H620v160ZM180-180h160v-160H180v160Zm440 0h160v-160H620v160Z\"/>\n",
              "  </svg>\n",
              "    </button>\n",
              "\n",
              "  <style>\n",
              "    .colab-df-container {\n",
              "      display:flex;\n",
              "      gap: 12px;\n",
              "    }\n",
              "\n",
              "    .colab-df-convert {\n",
              "      background-color: #E8F0FE;\n",
              "      border: none;\n",
              "      border-radius: 50%;\n",
              "      cursor: pointer;\n",
              "      display: none;\n",
              "      fill: #1967D2;\n",
              "      height: 32px;\n",
              "      padding: 0 0 0 0;\n",
              "      width: 32px;\n",
              "    }\n",
              "\n",
              "    .colab-df-convert:hover {\n",
              "      background-color: #E2EBFA;\n",
              "      box-shadow: 0px 1px 2px rgba(60, 64, 67, 0.3), 0px 1px 3px 1px rgba(60, 64, 67, 0.15);\n",
              "      fill: #174EA6;\n",
              "    }\n",
              "\n",
              "    .colab-df-buttons div {\n",
              "      margin-bottom: 4px;\n",
              "    }\n",
              "\n",
              "    [theme=dark] .colab-df-convert {\n",
              "      background-color: #3B4455;\n",
              "      fill: #D2E3FC;\n",
              "    }\n",
              "\n",
              "    [theme=dark] .colab-df-convert:hover {\n",
              "      background-color: #434B5C;\n",
              "      box-shadow: 0px 1px 3px 1px rgba(0, 0, 0, 0.15);\n",
              "      filter: drop-shadow(0px 1px 2px rgba(0, 0, 0, 0.3));\n",
              "      fill: #FFFFFF;\n",
              "    }\n",
              "  </style>\n",
              "\n",
              "    <script>\n",
              "      const buttonEl =\n",
              "        document.querySelector('#df-f41e17bf-8f0a-4177-b16c-678b4238a6ae button.colab-df-convert');\n",
              "      buttonEl.style.display =\n",
              "        google.colab.kernel.accessAllowed ? 'block' : 'none';\n",
              "\n",
              "      async function convertToInteractive(key) {\n",
              "        const element = document.querySelector('#df-f41e17bf-8f0a-4177-b16c-678b4238a6ae');\n",
              "        const dataTable =\n",
              "          await google.colab.kernel.invokeFunction('convertToInteractive',\n",
              "                                                    [key], {});\n",
              "        if (!dataTable) return;\n",
              "\n",
              "        const docLinkHtml = 'Like what you see? Visit the ' +\n",
              "          '<a target=\"_blank\" href=https://colab.research.google.com/notebooks/data_table.ipynb>data table notebook</a>'\n",
              "          + ' to learn more about interactive tables.';\n",
              "        element.innerHTML = '';\n",
              "        dataTable['output_type'] = 'display_data';\n",
              "        await google.colab.output.renderOutput(dataTable, element);\n",
              "        const docLink = document.createElement('div');\n",
              "        docLink.innerHTML = docLinkHtml;\n",
              "        element.appendChild(docLink);\n",
              "      }\n",
              "    </script>\n",
              "  </div>\n",
              "\n",
              "\n",
              "<div id=\"df-203325eb-f84a-4e60-84d7-fd8c51bd72f1\">\n",
              "  <button class=\"colab-df-quickchart\" onclick=\"quickchart('df-203325eb-f84a-4e60-84d7-fd8c51bd72f1')\"\n",
              "            title=\"Suggest charts\"\n",
              "            style=\"display:none;\">\n",
              "\n",
              "<svg xmlns=\"http://www.w3.org/2000/svg\" height=\"24px\"viewBox=\"0 0 24 24\"\n",
              "     width=\"24px\">\n",
              "    <g>\n",
              "        <path d=\"M19 3H5c-1.1 0-2 .9-2 2v14c0 1.1.9 2 2 2h14c1.1 0 2-.9 2-2V5c0-1.1-.9-2-2-2zM9 17H7v-7h2v7zm4 0h-2V7h2v10zm4 0h-2v-4h2v4z\"/>\n",
              "    </g>\n",
              "</svg>\n",
              "  </button>\n",
              "\n",
              "<style>\n",
              "  .colab-df-quickchart {\n",
              "      --bg-color: #E8F0FE;\n",
              "      --fill-color: #1967D2;\n",
              "      --hover-bg-color: #E2EBFA;\n",
              "      --hover-fill-color: #174EA6;\n",
              "      --disabled-fill-color: #AAA;\n",
              "      --disabled-bg-color: #DDD;\n",
              "  }\n",
              "\n",
              "  [theme=dark] .colab-df-quickchart {\n",
              "      --bg-color: #3B4455;\n",
              "      --fill-color: #D2E3FC;\n",
              "      --hover-bg-color: #434B5C;\n",
              "      --hover-fill-color: #FFFFFF;\n",
              "      --disabled-bg-color: #3B4455;\n",
              "      --disabled-fill-color: #666;\n",
              "  }\n",
              "\n",
              "  .colab-df-quickchart {\n",
              "    background-color: var(--bg-color);\n",
              "    border: none;\n",
              "    border-radius: 50%;\n",
              "    cursor: pointer;\n",
              "    display: none;\n",
              "    fill: var(--fill-color);\n",
              "    height: 32px;\n",
              "    padding: 0;\n",
              "    width: 32px;\n",
              "  }\n",
              "\n",
              "  .colab-df-quickchart:hover {\n",
              "    background-color: var(--hover-bg-color);\n",
              "    box-shadow: 0 1px 2px rgba(60, 64, 67, 0.3), 0 1px 3px 1px rgba(60, 64, 67, 0.15);\n",
              "    fill: var(--button-hover-fill-color);\n",
              "  }\n",
              "\n",
              "  .colab-df-quickchart-complete:disabled,\n",
              "  .colab-df-quickchart-complete:disabled:hover {\n",
              "    background-color: var(--disabled-bg-color);\n",
              "    fill: var(--disabled-fill-color);\n",
              "    box-shadow: none;\n",
              "  }\n",
              "\n",
              "  .colab-df-spinner {\n",
              "    border: 2px solid var(--fill-color);\n",
              "    border-color: transparent;\n",
              "    border-bottom-color: var(--fill-color);\n",
              "    animation:\n",
              "      spin 1s steps(1) infinite;\n",
              "  }\n",
              "\n",
              "  @keyframes spin {\n",
              "    0% {\n",
              "      border-color: transparent;\n",
              "      border-bottom-color: var(--fill-color);\n",
              "      border-left-color: var(--fill-color);\n",
              "    }\n",
              "    20% {\n",
              "      border-color: transparent;\n",
              "      border-left-color: var(--fill-color);\n",
              "      border-top-color: var(--fill-color);\n",
              "    }\n",
              "    30% {\n",
              "      border-color: transparent;\n",
              "      border-left-color: var(--fill-color);\n",
              "      border-top-color: var(--fill-color);\n",
              "      border-right-color: var(--fill-color);\n",
              "    }\n",
              "    40% {\n",
              "      border-color: transparent;\n",
              "      border-right-color: var(--fill-color);\n",
              "      border-top-color: var(--fill-color);\n",
              "    }\n",
              "    60% {\n",
              "      border-color: transparent;\n",
              "      border-right-color: var(--fill-color);\n",
              "    }\n",
              "    80% {\n",
              "      border-color: transparent;\n",
              "      border-right-color: var(--fill-color);\n",
              "      border-bottom-color: var(--fill-color);\n",
              "    }\n",
              "    90% {\n",
              "      border-color: transparent;\n",
              "      border-bottom-color: var(--fill-color);\n",
              "    }\n",
              "  }\n",
              "</style>\n",
              "\n",
              "  <script>\n",
              "    async function quickchart(key) {\n",
              "      const quickchartButtonEl =\n",
              "        document.querySelector('#' + key + ' button');\n",
              "      quickchartButtonEl.disabled = true;  // To prevent multiple clicks.\n",
              "      quickchartButtonEl.classList.add('colab-df-spinner');\n",
              "      try {\n",
              "        const charts = await google.colab.kernel.invokeFunction(\n",
              "            'suggestCharts', [key], {});\n",
              "      } catch (error) {\n",
              "        console.error('Error during call to suggestCharts:', error);\n",
              "      }\n",
              "      quickchartButtonEl.classList.remove('colab-df-spinner');\n",
              "      quickchartButtonEl.classList.add('colab-df-quickchart-complete');\n",
              "    }\n",
              "    (() => {\n",
              "      let quickchartButtonEl =\n",
              "        document.querySelector('#df-203325eb-f84a-4e60-84d7-fd8c51bd72f1 button');\n",
              "      quickchartButtonEl.style.display =\n",
              "        google.colab.kernel.accessAllowed ? 'block' : 'none';\n",
              "    })();\n",
              "  </script>\n",
              "</div>\n",
              "    </div>\n",
              "  </div>\n"
            ],
            "application/vnd.google.colaboratory.intrinsic+json": {
              "type": "dataframe",
              "variable_name": "X_train"
            }
          },
          "metadata": {},
          "execution_count": 74
        }
      ]
    },
    {
      "cell_type": "code",
      "source": [
        "selected_features = feature_names_lasso[alphas[7]]\n",
        "X_train = X_train.loc[:,selected_features]\n",
        "X_test = X_test.loc[:,selected_features]\n",
        "X_train"
      ],
      "metadata": {
        "id": "htQQnF0bL37a"
      },
      "execution_count": null,
      "outputs": []
    },
    {
      "cell_type": "code",
      "source": [
        "import time\n",
        "from sklearn.svm import SVC\n",
        "import pandas as pd\n",
        "import numpy as np\n",
        "from sklearn.model_selection import GridSearchCV\n",
        "from sklearn.neighbors import KNeighborsClassifier\n",
        "from sklearn.ensemble import RandomForestClassifier\n",
        "\n",
        "# Classifiers\n",
        "classifiers = {\n",
        "    \"KNN\" : KNeighborsClassifier(),\n",
        "    \"SVC\" : SVC(random_state=0, probability=True),\n",
        "    \"RandomForest\" : RandomForestClassifier(random_state=0)}\n",
        "\n",
        "# Grids for grid search\n",
        "KNN_grid = {'n_neighbors': [3, 5, 7, 9],\n",
        "            'p': [1, 2]}\n",
        "\n",
        "SVC_grid = {'C': [0.25, 0.5, 0.75, 1, 1.25, 1.5],\n",
        "            'kernel': ['linear', 'rbf', 'poly', 'sigmoid'],\n",
        "            'gamma': ['scale', 'auto'],\n",
        "            'degree': [2, 3, 4],  # degrees for polynomial kernel\n",
        "            'coef0': [0.0, 0.1, 0.5]  # homogeneity parameter\n",
        "            }\n",
        "\n",
        "RF_grid = {'n_estimators': [50, 100, 150, 200, 250, 300],\n",
        "        'max_depth': [4, 6, 8, 10, 12]}\n",
        "\n",
        "# Dictionary of all grids\n",
        "grid = {\n",
        "    \"KNN\" : KNN_grid,\n",
        "    \"SVC\" : SVC_grid,\n",
        "    \"RandomForest\" : RF_grid}\n",
        "\n",
        "X_10 = X_train.iloc[:50]\n",
        "y_10 = y_train.iloc[:50]\n",
        "X_test_10 = X_test.iloc[:50]\n",
        "y_test_10 = y_test.iloc[:50]\n",
        "\n",
        "\n",
        "i=0\n",
        "clf_best_params=classifiers.copy()\n",
        "valid_scores=pd.DataFrame({'Classifer':classifiers.keys(), 'Validation accuracy': np.zeros(len(classifiers)), 'Training time': np.zeros(len(classifiers))})\n",
        "for key, classifier in classifiers.items():\n",
        "    start = time.time()\n",
        "    clf = GridSearchCV(estimator=classifier, param_grid=grid[key], n_jobs=-1, cv=None)\n",
        "\n",
        "    # Train and score\n",
        "    clf.fit(X_10, y_10)\n",
        "    valid_scores.iloc[i,1]=clf.score(X_test_10, y_test_10)\n",
        "\n",
        "    # Save trained model\n",
        "    clf_best_params[key]=clf.best_params_\n",
        "\n",
        "    # Print iteration and training time\n",
        "    stop = time.time()\n",
        "    valid_scores.iloc[i,2]=np.round((stop - start)/60, 2)\n",
        "\n",
        "    print('Model:', key)\n",
        "    print('Training time (mins):', valid_scores.iloc[i,2])\n",
        "    print('')\n",
        "    i+=1\n"
      ],
      "metadata": {
        "id": "zRxn4g_YNn3w"
      },
      "execution_count": null,
      "outputs": []
    }
  ],
  "metadata": {
    "colab": {
      "provenance": [],
      "toc_visible": true,
      "include_colab_link": true
    },
    "kernelspec": {
      "display_name": "Python 3",
      "language": "python",
      "name": "python3"
    },
    "language_info": {
      "codemirror_mode": {
        "name": "ipython",
        "version": 3
      },
      "file_extension": ".py",
      "mimetype": "text/x-python",
      "name": "python",
      "nbconvert_exporter": "python",
      "pygments_lexer": "ipython3",
      "version": "3.8.5"
    }
  },
  "nbformat": 4,
  "nbformat_minor": 0
}