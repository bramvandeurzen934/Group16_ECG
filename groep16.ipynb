{
  "nbformat": 4,
  "nbformat_minor": 0,
  "metadata": {
    "colab": {
      "provenance": [],
      "include_colab_link": true
    },
    "kernelspec": {
      "name": "python3",
      "display_name": "Python 3"
    },
    "language_info": {
      "name": "python"
    }
  },
  "cells": [
    {
      "cell_type": "markdown",
      "metadata": {
        "id": "view-in-github",
        "colab_type": "text"
      },
      "source": [
        "<a href=\"https://colab.research.google.com/github/bramvandeurzen934/Group16_ECG/blob/main/groep16.ipynb\" target=\"_parent\"><img src=\"https://colab.research.google.com/assets/colab-badge.svg\" alt=\"Open In Colab\"/></a>"
      ]
    },
    {
      "cell_type": "markdown",
      "source": [
        "Dit is onze eerste test"
      ],
      "metadata": {
        "id": "gQYk56J7XEhf"
      }
    },
    {
      "cell_type": "code",
      "source": [
        "# Run this to use from colab environment\n",
        "!git clone https://github.com/jveenland/tm10007_ml.git\n",
        "\n",
        "import zipfile\n",
        "import os\n",
        "import pandas as pd\n",
        "\n",
        "with zipfile.ZipFile('/content/tm10007_ml/ecg/ecg_data.zip', 'r') as zip_ref:\n",
        "    zip_ref.extractall('/content/tm10007_ml/ecg')\n",
        "\n",
        "data = pd.read_csv('/content/tm10007_ml/ecg/ecg_data.csv', index_col=0)\n",
        "\n",
        "print(f'The number of samples: {len(data.index)}')\n",
        "print(f'The number of columns: {len(data.columns)}')\n",
        "\n",
        "print(data.head())"
      ],
      "metadata": {
        "id": "zeGOF6jUXIBT",
        "colab": {
          "base_uri": "https://localhost:8080/"
        },
        "outputId": "063987fc-fa71-43a6-9740-5e525b5870b2"
      },
      "execution_count": null,
      "outputs": [
        {
          "output_type": "stream",
          "name": "stdout",
          "text": [
            "fatal: destination path 'tm10007_ml' already exists and is not an empty directory.\n",
            "The number of samples: 827\n",
            "The number of columns: 9001\n",
            "          0_0         0_1         0_2        0_3        0_4         0_5  \\\n",
            "0   47.685046   48.416904   37.371002  61.604757  58.732738  213.067966   \n",
            "1  152.726718  297.353726  111.168880  25.419423  14.636085   24.609688   \n",
            "2    1.601260    3.882169   22.978997  21.673040   8.919484   18.329286   \n",
            "3    1.388947    3.052483    3.084103   4.627886  10.016196   15.020347   \n",
            "4    3.625561    3.728466    6.205367  17.722897   5.699401    9.024836   \n",
            "\n",
            "          0_6         0_7         0_8         0_9  ...    11_741    11_742  \\\n",
            "0  120.890451   40.100639   19.106303    6.043738  ...  0.078753  0.379885   \n",
            "1   49.533842  253.651571  483.852043  167.617409  ...  0.804160  0.809705   \n",
            "2   27.710604   23.350084   37.896254    8.331180  ...  0.156080  0.102070   \n",
            "3  139.823127   20.149108   10.393109    9.241921  ...  0.238274  0.096733   \n",
            "4   15.782812   33.336480   55.257804   19.139128  ...  0.056914  0.059116   \n",
            "\n",
            "     11_743    11_744    11_745    11_746    11_747    11_748    11_749  label  \n",
            "0  0.182930  0.231552  0.222432  0.154919  0.158616  0.269249  0.112248      0  \n",
            "1  0.830032  0.774368  0.798178  0.853519  0.827946  0.859936  0.742673      1  \n",
            "2  0.168276  0.120385  0.064254  0.077670  0.059857  0.098506  0.098288      0  \n",
            "3  0.030739  0.170214  0.052079  0.179360  0.226222  0.092000  0.192559      0  \n",
            "4  0.050098  0.152588  0.129712  0.047342  0.058446  0.141610  0.129477      0  \n",
            "\n",
            "[5 rows x 9001 columns]\n"
          ]
        }
      ]
    },
    {
      "cell_type": "code",
      "source": [
        "! git status"
      ],
      "metadata": {
        "id": "tkbavKA4eY4A",
        "outputId": "8f49175c-3ebc-4fec-c805-89a3a7977db5",
        "colab": {
          "base_uri": "https://localhost:8080/"
        }
      },
      "execution_count": null,
      "outputs": [
        {
          "output_type": "stream",
          "name": "stdout",
          "text": [
            "fatal: not a git repository (or any of the parent directories): .git\n"
          ]
        }
      ]
    },
    {
      "cell_type": "code",
      "source": [],
      "metadata": {
        "id": "YtnXoe6edy2_"
      },
      "execution_count": null,
      "outputs": []
    }
  ]
}